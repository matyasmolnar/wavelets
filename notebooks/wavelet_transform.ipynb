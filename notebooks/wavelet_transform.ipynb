{
 "cells": [
  {
   "cell_type": "markdown",
   "id": "2cbb52ed",
   "metadata": {},
   "source": [
    "<center><strong><font size=+3>Wavelet transforms</font></center>\n",
    "<br><br>\n",
    "</center>\n",
    "<center><strong><font size=+2>Matyas Molnar and Bojan Nikolic</font><br></strong></center>\n",
    "<br><center><strong><font size=+1>Astrophysics Group, Cavendish Laboratory, University of Cambridge</font></strong></center>"
   ]
  },
  {
   "cell_type": "markdown",
   "id": "435a6ac1",
   "metadata": {},
   "source": [
    "The Fourier transform (and hence power spectrum) works very well in transforming a signal from its time-domain to its frequency domain, when the frequency spectrum is stationary and does not evolve in time.\n",
    "\n",
    "The more non-stationary/dynamic a signal is, the worse the results will be, which is the case for most of the signals we see in real life. In 21 cm cosmology, we compute power spectra over considerable frequency bandwidths: the Universe can change over such scales, since frequency maps to redshift. A much better approach for analyzing dynamic signals is to use the wavelet transform instead of the Fourier transform.\n",
    "\n",
    "Furthermore, if erroneous modes exist in the data, these will be locatable to a point in the dual frequency & delay space - these can be found using the wavelet transform."
   ]
  },
  {
   "cell_type": "code",
   "execution_count": null,
   "id": "fb327450",
   "metadata": {},
   "outputs": [],
   "source": [
    "import copy\n",
    "import functools\n",
    "import glob\n",
    "import itertools\n",
    "import os\n",
    "import warnings\n",
    "\n",
    "import h5py\n",
    "import numpy as np\n",
    "import scipy\n",
    "from matplotlib import pyplot as plt\n",
    "from matplotlib.colors import LogNorm\n",
    "from mpl_toolkits.axes_grid1 import make_axes_locatable\n",
    "from mpl_toolkits.axes_grid1.inset_locator import inset_axes\n",
    "from scipy import signal\n",
    "from scipy.interpolate import griddata\n",
    "\n",
    "from hera_cal.io import HERAData\n",
    "from hera_cal.redcal import get_reds\n",
    "\n",
    "import pywt\n",
    "\n",
    "from wavelets.plotting import cws, plot_wav, scaleogram_tf\n",
    "from wavelets.utils import DATAPATH"
   ]
  },
  {
   "cell_type": "code",
   "execution_count": null,
   "id": "b133cbc2",
   "metadata": {},
   "outputs": [],
   "source": [
    "%matplotlib inline"
   ]
  },
  {
   "cell_type": "code",
   "execution_count": null,
   "id": "c0da6d0f",
   "metadata": {},
   "outputs": [],
   "source": [
    "from matplotlib import rc\n",
    "rc('font',**{'family':'serif','serif':['cm']})\n",
    "rc('text', usetex=True)\n",
    "rc('text.latex', preamble=r'\\usepackage{amssymb} \\usepackage{amsmath}')"
   ]
  },
  {
   "cell_type": "code",
   "execution_count": null,
   "id": "a8e82724",
   "metadata": {},
   "outputs": [],
   "source": [
    "band_1 = [175, 334]\n",
    "band_2 = [515, 694]\n",
    "\n",
    "field_1 = [1.25, 2.70]\n",
    "field_2 = [4.50, 6.50]\n",
    "field_3 = [8.50, 10.75]\n",
    "\n",
    "bad_ants = [0, 2, 11, 24, 50, 53, 54, 67, 69, 98, 122, 136, 139]"
   ]
  },
  {
   "cell_type": "markdown",
   "id": "f0f54e93",
   "metadata": {},
   "source": [
    "## Load final OCRSLPXTK visibility product"
   ]
  },
  {
   "cell_type": "code",
   "execution_count": null,
   "id": "0a5ab9a9",
   "metadata": {},
   "outputs": [],
   "source": [
    "lstb_dir = '/lustre/aoc/projects/hera/H1C_IDR2/IDR2_2_pspec/v2/one_group/data'\n",
    "save_fig_dir = '/lustre/aoc/projects/hera/mmolnar/figs'\n",
    "\n",
    "# work locally\n",
    "at_nrao = os.path.exists('/lustre/aoc/projects/hera')\n",
    "if not at_nrao:\n",
    "    lstb_dir = '/Users/matyasmolnar/Downloads/HERA_Data/sample_data'\n",
    "    save_fig_dir = '/Users/matyasmolnar/Desktop/Thesis/CHAP-5/FIGS'"
   ]
  },
  {
   "cell_type": "code",
   "execution_count": null,
   "id": "60858bc1",
   "metadata": {},
   "outputs": [],
   "source": [
    "hr_full_fn = os.path.join(DATAPATH, 'h1c_idr2.OCRSLP2XTK.npz')"
   ]
  },
  {
   "cell_type": "code",
   "execution_count": null,
   "id": "2a8297a8",
   "metadata": {},
   "outputs": [],
   "source": [
    "final_files = sorted(glob.glob(os.path.join(lstb_dir, 'zen.grp1.of1.LST.*XTK.uvh5')))"
   ]
  },
  {
   "cell_type": "code",
   "execution_count": null,
   "id": "44b8960d",
   "metadata": {},
   "outputs": [],
   "source": [
    "def fltBad(bll, badl, minbl=1):\n",
    "    r1 = map(functools.partial(filter, lambda x: not (x[0] in badl or x[1] \\\n",
    "                               in badl)), bll)\n",
    "    r2 = list(map(list, r1))\n",
    "    return list(filter(lambda x: len(x) >= minbl, r2))\n",
    "\n",
    "def groupBls(bll):\n",
    "    return np.array([(g, i, j) for (g, bl) in enumerate(bll) for (i, j, p) in bl])"
   ]
  },
  {
   "cell_type": "code",
   "execution_count": null,
   "id": "5f7f88b1",
   "metadata": {},
   "outputs": [],
   "source": [
    "hd = HERAData(final_files[0])\n",
    "reds = get_reds(hd.antpos, pols=['pI'])\n",
    "reds = fltBad(reds, bad_ants)\n",
    "redg = groupBls(reds)\n",
    "f_res = hd.channel_width\n",
    "\n",
    "data = np.load(hr_full_fn)['arr_0']"
   ]
  },
  {
   "cell_type": "code",
   "execution_count": null,
   "id": "3c930e88",
   "metadata": {},
   "outputs": [],
   "source": [
    "# get LSTs\n",
    "if at_nrao:\n",
    "    with warnings.catch_warnings():\n",
    "        warnings.filterwarnings('ignore', message='antenna_diameters is not set. Using known values for HERA.')\n",
    "\n",
    "        for i, f_file in enumerate(final_files):\n",
    "            file = h5py.File(f_file, 'r')\n",
    "            lsts_i = np.sort(np.unique(file['Header']['lst_array']))\n",
    "\n",
    "            if i == 0:\n",
    "                lsts = lsts_i\n",
    "                freqs = np.squeeze(file['Header']['freq_array'])\n",
    "                chans = np.arange(freqs.size)\n",
    "            else:\n",
    "                lsts = np.concatenate((lsts, lsts_i))\n",
    "\n",
    "            file.close()\n",
    "\n",
    "        lsts = lsts * 12 / np.pi  # convert to hours\n",
    "else:\n",
    "    # hack\n",
    "    lsts = np.append(np.linspace(0.02991026919242272, 11.87437686939182, 199), [11.922233300099697])\n",
    "    freqs = np.linspace(1e8, 2e8, 1024+1)[:-1]\n",
    "    chans = np.arange(freqs.size)"
   ]
  },
  {
   "cell_type": "code",
   "execution_count": null,
   "id": "5a007515",
   "metadata": {},
   "outputs": [],
   "source": [
    "extent = [hd.freqs[0], hd.freqs[-1], lsts[-1], lsts[0]]\n",
    "xlim = np.array([hd.freqs[0], round(hd.freqs[-1], -6)])\n",
    "ylim = np.array([np.ceil(lsts[-1]), np.floor(lsts[0])])"
   ]
  },
  {
   "cell_type": "code",
   "execution_count": null,
   "id": "78d2696f",
   "metadata": {},
   "outputs": [],
   "source": [
    "f1 = np.where((lsts > field_1[0]) & (lsts < field_1[1]))[0]\n",
    "f2 = np.where((lsts > field_2[0]) & (lsts < field_2[1]))[0]\n",
    "f3 = np.where((lsts > field_3[0]) & (lsts < field_3[1]))[0]\n",
    "\n",
    "b1 = np.where((chans > band_1[0]) & (chans < band_1[1]))[0]\n",
    "b2 = np.where((chans > band_2[0]) & (chans < band_2[1]))[0]"
   ]
  },
  {
   "cell_type": "code",
   "execution_count": null,
   "id": "fd69ea6e",
   "metadata": {},
   "outputs": [],
   "source": [
    "f_all = np.concatenate((f1, f2, f3))\n",
    "b_all = np.concatenate((b1, b2))\n",
    "datag = data[f_all, :, :][:, b_all, :]"
   ]
  },
  {
   "cell_type": "code",
   "execution_count": null,
   "id": "1177e0d2",
   "metadata": {},
   "outputs": [],
   "source": [
    "select_bl = 40\n",
    "\n",
    "fig, axes = plt.subplots(nrows=2, figsize=(7, 9), dpi=600, sharex=True)\n",
    "\n",
    "rasterized = True\n",
    "\n",
    "vmax = 400 # np.nanpercentile(np.abs(data[..., 40]), 95)\n",
    "# vmax = round(np.nanmax(np.abs(datag[..., 40])), -2)\n",
    "freqsm = hd.freqs/1e6\n",
    "pm1 = axes[0].pcolormesh(freqsm, lsts, np.abs(data[..., select_bl]), vmax=vmax, rasterized=rasterized)\n",
    "# axes[0].set_xlabel('Frequency [MHz]')\n",
    "axes[0].set_ylabel('LST [h]')\n",
    "axes[0].set_xlim(xlim/1e6)\n",
    "axes[0].set_ylim(ylim)\n",
    "\n",
    "divider = make_axes_locatable(axes[0])\n",
    "cax1 = divider.append_axes('right', size='2.5%', pad=0.1)   \n",
    "plt.colorbar(pm1, cax=cax1, extend='max', label=r'$|V|$')\n",
    "\n",
    "pm2 = axes[1].pcolormesh(freqsm, lsts, np.angle(data[..., select_bl]), cmap='PiYG', rasterized=rasterized)\n",
    "axes[1].set_xlabel('Frequency [MHz]')\n",
    "axes[1].set_ylabel('LST [h]')\n",
    "axes[1].set_xlim(xlim/1e6)\n",
    "axes[1].set_ylim(ylim)\n",
    "\n",
    "divider = make_axes_locatable(axes[1])\n",
    "cax2 = divider.append_axes('right', size='2.5%', pad=0.1)   \n",
    "plt.colorbar(pm2, cax=cax2, label=r'$\\varphi$')\n",
    "\n",
    "lstcuts = [field_1, field_2, field_3]\n",
    "chancuts = [band_1, band_2]\n",
    "tc = ['w', 'k']\n",
    "\n",
    "for i, ax in enumerate(axes):\n",
    "    \n",
    "    for f, lc in enumerate(lstcuts):\n",
    "        \n",
    "        for b, cc in enumerate(chancuts):\n",
    "    \n",
    "            r = plt.Rectangle((freqsm[cc[0]], lc[0]), freqsm[cc[1]]-freqsm[cc[0]], lc[1]-lc[0], \\\n",
    "                              fc='None', lw=1.5, ec='orange')\n",
    "            ax.add_patch(r)\n",
    "            \n",
    "            ax.text((freqsm[cc[0]]+freqsm[cc[1]])/2, (lc[1]+lc[0])/2, f'B{b+1}F{f+1}', \\\n",
    "                    fontsize=8, c=tc[i], ha='center', va='center')\n",
    "\n",
    "fig.tight_layout()\n",
    "# plt.savefig(os.path.join(save_fig_dir, 'pI_vis.pdf'), bbox_inches='tight')\n",
    "plt.show()"
   ]
  },
  {
   "cell_type": "markdown",
   "id": "7cfa0b8a",
   "metadata": {},
   "source": [
    "## Running the wavelet transform"
   ]
  },
  {
   "cell_type": "code",
   "execution_count": null,
   "id": "5b2cb536",
   "metadata": {},
   "outputs": [],
   "source": [
    "band = band_1\n",
    "\n",
    "slct_time = 35\n",
    "slct_bl = 40\n",
    "\n",
    "sample_data = data[slct_time, band[0]:band[1]+1, slct_bl]  # pick 1 tint in F1, Band 1, 1st 14m EW bl\n",
    "freqsb = hd.freqs[band[0]:band[1]+1]\n",
    "\n",
    "print(f'LST {lsts[slct_time]:.2f} h and baseline {redg[slct_bl][1:]}')"
   ]
  },
  {
   "cell_type": "code",
   "execution_count": null,
   "id": "6beac417",
   "metadata": {},
   "outputs": [],
   "source": [
    "fig, ax = plt.subplots(figsize=(6, 4), dpi=125)\n",
    "ax.plot(freqsb/1e6, sample_data.real, label=r'$\\mathfrak{Re}(V)$')\n",
    "ax.plot(freqsb/1e6, sample_data.imag, label=r'$\\mathfrak{Im}(V)$')\n",
    "ax.set_xlabel('Frequency [MHz]')\n",
    "ax.legend(loc='best')\n",
    "plt.tight_layout()\n",
    "plt.show()"
   ]
  },
  {
   "cell_type": "code",
   "execution_count": null,
   "id": "6239a09f",
   "metadata": {},
   "outputs": [],
   "source": [
    "# pywt.wavelist(kind='continuous')"
   ]
  },
  {
   "cell_type": "code",
   "execution_count": null,
   "id": "0951814e",
   "metadata": {},
   "outputs": [],
   "source": [
    "# Choose wavelet\n",
    "wavelet = 'cmor1.5-1.0'"
   ]
  },
  {
   "cell_type": "code",
   "execution_count": null,
   "id": "ac05f779",
   "metadata": {},
   "outputs": [],
   "source": [
    "fig, axes = plt.subplots(ncols=2, figsize=(8, 4), dpi=125)\n",
    "\n",
    "axes = plot_wav('cmor1.5-1.0', axes=axes, f_complex=False, annotate=False)\n",
    "\n",
    "axes[0].set_title('Wavelet Function')\n",
    "axes[1].set_title('Frequency Support')\n",
    "axes[0].set_xlim(-4, 4)\n",
    "axes[1].set_xlim(0, 2)\n",
    "\n",
    "plt.suptitle(r'Complex Morlet Wavelet with $B=1.5$ and $C=1$')\n",
    "\n",
    "fig.tight_layout()\n",
    "# plt.savefig(os.path.join(save_fig_dir, 'morlet_wavelet.pdf'), bbox_inches='tight')\n",
    "plt.show()"
   ]
  },
  {
   "cell_type": "markdown",
   "id": "f1d786c1",
   "metadata": {},
   "source": [
    "### Continuous wavelet transform"
   ]
  },
  {
   "cell_type": "code",
   "execution_count": null,
   "id": "0c786a24",
   "metadata": {},
   "outputs": [],
   "source": [
    "fig, ax = plt.subplots(figsize=(6, 4), dpi=125)\n",
    "ax, qmesh, v = cws(freqsb, sample_data, wavelet=wavelet, cscale='log', coi=True, \\\n",
    "                   ax=ax, spectrum='power', yaxis='scale', xlabel='Frequency', \\\n",
    "                   ylabel='Delay', yscale='log')\n",
    "plt.tight_layout()\n",
    "plt.show()"
   ]
  },
  {
   "cell_type": "code",
   "execution_count": null,
   "id": "0439a8c1",
   "metadata": {},
   "outputs": [],
   "source": [
    "fig, ax = plt.subplots(figsize=(6, 4), dpi=125)\n",
    "\n",
    "extent_s = [freqsb[0]/1e6, freqsb[-1]/1e6, v.shape[0]+0.5, +0.5]\n",
    "im = ax.imshow(np.log10(v), aspect='auto', interpolation='none', cmap='jet', \\\n",
    "               extent=extent_s)\n",
    "\n",
    "divider = make_axes_locatable(ax)\n",
    "cax1 = divider.append_axes('right', size='5%', pad=0.1)\n",
    "cb = fig.colorbar(im, cax=cax1, extend=None, **{'aspect': 30, 'pad': 0.03, 'fraction':0.05})\n",
    "cb.set_label(r'$\\log(\\mathrm{CWPS})$')\n",
    "\n",
    "ax.set_ylim([v.shape[0], 1])\n",
    "ax.set_yscale('log')\n",
    "ax.set_ylabel('Scale')\n",
    "ax.set_xlabel('Frequency [MHz]')\n",
    "\n",
    "fig.tight_layout()\n",
    "plt.show()"
   ]
  },
  {
   "cell_type": "code",
   "execution_count": null,
   "id": "da14e7b7",
   "metadata": {},
   "outputs": [],
   "source": [
    "scales = np.arange(1, 2**(np.floor(np.log2(freqsb.size))-2), dtype=int)\n",
    "\n",
    "cfs, delays = pywt.cwt(sample_data, scales, wavelet, hd.channel_width)\n",
    "power = np.abs(cfs)**2\n",
    "\n",
    "fig, ax = plt.subplots(figsize=(6, 4), dpi=125)\n",
    "\n",
    "im = ax.contourf(freqsb, delays, power, levels=None, extend='both', norm = LogNorm())\n",
    "\n",
    "ax.set_title('Wavelet Power Spectrum')\n",
    "ax.set_xlabel('Frequency')\n",
    "ax.set_ylabel('Delay')\n",
    "ax.set_yscale('log')\n",
    "\n",
    "plt.colorbar(im, format='%.0e')\n",
    "\n",
    "plt.tight_layout()\n",
    "plt.show()"
   ]
  },
  {
   "cell_type": "markdown",
   "id": "2664cf25",
   "metadata": {},
   "source": [
    "### Discrete wavelet decomposition"
   ]
  },
  {
   "cell_type": "code",
   "execution_count": null,
   "id": "46db08f9",
   "metadata": {},
   "outputs": [],
   "source": [
    "# pywt.wavelist(kind='discrete')"
   ]
  },
  {
   "cell_type": "code",
   "execution_count": null,
   "id": "9c65dcd6",
   "metadata": {},
   "outputs": [],
   "source": [
    "disc_wavelet = 'db2'"
   ]
  },
  {
   "cell_type": "code",
   "execution_count": null,
   "id": "880f9855",
   "metadata": {},
   "outputs": [],
   "source": [
    "# calculate approximations of scaling function (phi) and wavelet function (psi) at the given level of refinement.\n",
    "phi, psi, x = pywt.Wavelet(disc_wavelet).wavefun()"
   ]
  },
  {
   "cell_type": "code",
   "execution_count": null,
   "id": "43b59d7a",
   "metadata": {},
   "outputs": [],
   "source": [
    "fig, ax = plt.subplots(figsize=(6, 4), dpi=125)\n",
    "ax.plot(phi, label='Scaling function')\n",
    "ax.plot(psi, label='Wavelet function')\n",
    "ax.legend(loc='best')\n",
    "plt.tight_layout()\n",
    "plt.show()"
   ]
  },
  {
   "cell_type": "code",
   "execution_count": null,
   "id": "6bb90907",
   "metadata": {},
   "outputs": [],
   "source": [
    "coeffs = pywt.wavedec(sample_data, wavelet=disc_wavelet)\n",
    "cA = coeffs[0]\n",
    "cDs = coeffs[1:]\n",
    "levels = len(cDs)\n",
    "lengths = [len(cD) for cD in cDs]\n",
    "col = int(np.max(lengths))\n",
    "\n",
    "cc = np.empty((levels, col), dtype=complex)\n",
    "\n",
    "for level in range(levels):\n",
    "    y = cDs[level]\n",
    "    if lengths[level] < col:\n",
    "        x = np.arange(0.5, len(y)+0.5) * col/len(y)\n",
    "        xi = np.arange(col)\n",
    "        yi = griddata(points=x, values=y, xi=xi, method='nearest')\n",
    "    else:\n",
    "        yi = y\n",
    "    \n",
    "    cc[level, :] = yi\n",
    "    \n",
    "delays = pywt.scale2frequency(disc_wavelet, np.arange(1, levels+1)) / hd.channel_width"
   ]
  },
  {
   "cell_type": "code",
   "execution_count": null,
   "id": "76329925",
   "metadata": {},
   "outputs": [],
   "source": [
    "fig, ax = plt.subplots(figsize=(6, 4), dpi=125)\n",
    "\n",
    "im = ax.imshow(np.abs(cc)**2, aspect='auto', extent=[freqsb[0]/1e6, freqsb[-1]/1e6, levels+0.5, 0.5], \\\n",
    "               norm=LogNorm(), interpolation='None')\n",
    "cbar = plt.colorbar(im)\n",
    "\n",
    "ax.set_xlabel('Frequency')\n",
    "ax.set_ylabel('Level')\n",
    "\n",
    "ax.invert_yaxis()\n",
    "\n",
    "plt.tight_layout()\n",
    "plt.show()"
   ]
  },
  {
   "cell_type": "markdown",
   "id": "1d3eaf73",
   "metadata": {},
   "source": [
    "### Look at different CWT implementations"
   ]
  },
  {
   "cell_type": "code",
   "execution_count": null,
   "id": "f38db9bc",
   "metadata": {},
   "outputs": [],
   "source": [
    "# scales = np.arange(1, 2**(np.floor(np.log2(freqsb.size))-2), dtype=int)\n",
    "scales = np.arange(1, min(len(freqsb)/10, 100), dtype=int)\n",
    "\n",
    "cfs, delays = pywt.cwt(sample_data, scales, 'cmor1.5-1.0', sampling_period=hd.channel_width)\n",
    "power = np.abs(cfs)**2"
   ]
  },
  {
   "cell_type": "code",
   "execution_count": null,
   "id": "f50e3350",
   "metadata": {},
   "outputs": [],
   "source": [
    "fig, ax = plt.subplots(figsize=(6, 4), dpi=125)\n",
    "ax.imshow(np.log10(power), aspect='auto', interpolation='none', cmap='jet')\n",
    "plt.tight_layout()\n",
    "plt.show()"
   ]
  },
  {
   "cell_type": "code",
   "execution_count": null,
   "id": "5e0c66ff",
   "metadata": {},
   "outputs": [],
   "source": [
    "try:\n",
    "    import scaleogram as scg\n",
    "    cfs, delays = scg.wfun.fastcwt(sample_data, scales, 'cmor1.5-1.0', sampling_period=hd.channel_width)\n",
    "    power = np.abs(cfs)**2\n",
    "    \n",
    "    fig, ax = plt.subplots(figsize=(6, 4), dpi=125)\n",
    "    ax.imshow(np.log10(power), aspect='auto', interpolation='none', cmap='jet')\n",
    "    plt.tight_layout()\n",
    "    plt.show()\n",
    "except ImportError:\n",
    "    print('scaleogram module not installed - skipping cell')"
   ]
  },
  {
   "cell_type": "code",
   "execution_count": null,
   "id": "798dc70e",
   "metadata": {},
   "outputs": [],
   "source": [
    "scipy_cwt = signal.cwt(sample_data, signal.morlet2, widths=scales)\n",
    "power = np.abs(scipy_cwt)**2\n",
    "\n",
    "fig, ax = plt.subplots(figsize=(6, 4), dpi=125)\n",
    "ax.imshow(np.log10(power), aspect='auto', interpolation='none', cmap='jet')\n",
    "plt.tight_layout()\n",
    "plt.show()"
   ]
  },
  {
   "cell_type": "markdown",
   "id": "ad6de560",
   "metadata": {},
   "source": [
    "### Create CWT hypercube"
   ]
  },
  {
   "cell_type": "code",
   "execution_count": null,
   "id": "75a227cc",
   "metadata": {},
   "outputs": [],
   "source": [
    "no_red = len(set(redg[:, 0]))\n",
    "red_data = np.empty_like(data)[..., :no_red]"
   ]
  },
  {
   "cell_type": "code",
   "execution_count": null,
   "id": "eb97080d",
   "metadata": {},
   "outputs": [],
   "source": [
    "for red in range(no_red):\n",
    "    red_idxs = np.where(redg[:, 0] == red)[0]\n",
    "    red_data[..., red] = np.nanmean(data[..., red_idxs], axis=-1)"
   ]
  },
  {
   "cell_type": "code",
   "execution_count": null,
   "id": "b4a5bd1e",
   "metadata": {},
   "outputs": [],
   "source": [
    "fig, ax = plt.subplots(figsize=(7, 5), dpi=150)\n",
    "slct_red = 10\n",
    "vmax = np.nanpercentile(np.abs(red_data[..., slct_red]), 95)\n",
    "ax.imshow(np.abs(red_data[..., slct_red]), aspect='auto', interpolation='None', \\\n",
    "          extent=extent, vmax=vmax)\n",
    "ax.set_xlabel('Frequency')\n",
    "ax.set_ylabel('LST')\n",
    "plt.show()"
   ]
  },
  {
   "cell_type": "code",
   "execution_count": null,
   "id": "78c52b20",
   "metadata": {},
   "outputs": [],
   "source": [
    "wavelet = 'cmor1.5-1.0'\n",
    "scales = np.arange(1, 30, dtype=int)\n",
    "# scales = np.arange(1, min(len(freqsb)/10, 100), dtype=int)\n",
    "data_ = data\n",
    "band = band_2\n",
    "\n",
    "p_npz_fn = os.path.join(DATAPATH, 'cwt_power_b1.npz')\n",
    "\n",
    "if not os.path.exists(p_npz_fn):\n",
    "\n",
    "    # hypercube with dims scales, freqsb, times, bls\n",
    "    power_arr = np.zeros((scales.size, band[1]+1 - band[0], data_.shape[0], data_.shape[2]))\n",
    "\n",
    "    for tint in range(data_.shape[0]):\n",
    "        if tint % 20 == 0:\n",
    "            print(tint)\n",
    "        for bl in range(data_.shape[2]):\n",
    "            cfs, delays = pywt.cwt(data_[tint, band[0]:band[1]+1, bl], scales, wavelet, \\\n",
    "                                   sampling_period=hd.channel_width)\n",
    "            power = np.abs(cfs)**2\n",
    "\n",
    "            power_arr[..., tint, bl] = power\n",
    "\n",
    "    np.savez(p_npz_fn, power=power_arr, scales=scales, wavelet=wavelet, \\\n",
    "             delays=delays, chans=np.arange(band[0], band[1]+1), freqs=hd.freqs[band[0]:band[1]+1], \\\n",
    "             lsts=lsts, redg=redg)\n",
    "    \n",
    "else:\n",
    "\n",
    "    p_npz = np.load(p_npz_fn)\n",
    "    \n",
    "    power_arr = p_npz['power']"
   ]
  },
  {
   "cell_type": "code",
   "execution_count": null,
   "id": "3210f770",
   "metadata": {},
   "outputs": [],
   "source": [
    "fig, ax = plt.subplots(figsize=(6, 4), dpi=125)\n",
    "ax.imshow(np.log10(power_arr[..., 180, 500]), aspect='auto', interpolation='none', cmap='jet')\n",
    "plt.tight_layout()\n",
    "plt.show()"
   ]
  },
  {
   "cell_type": "markdown",
   "id": "16ed4096",
   "metadata": {},
   "source": [
    "### Plot CWT, signal and FT"
   ]
  },
  {
   "cell_type": "code",
   "execution_count": null,
   "id": "af0b2e1b",
   "metadata": {},
   "outputs": [],
   "source": [
    "sample_data = data[142, band_2[0]:band_2[1]+1, 165]\n",
    "freqsb = hd.freqs[band_2[0]:band_2[1]+1]\n",
    "\n",
    "# sample_data = data[35, band_1[0]:band_1[1]+1, 40]\n",
    "# freqsb = hd.freqs[band_1[0]:band_1[1]+1]"
   ]
  },
  {
   "cell_type": "code",
   "execution_count": null,
   "id": "491b0eb9",
   "metadata": {},
   "outputs": [],
   "source": [
    "fig, axes = scaleogram_tf(freqsb, sample_data, wavelet='cmor1.5-1.0', scales=np.arange(2, 60), \n",
    "    freq_plot='ft', coi=True, scg_title='', scg_xlabel='Frequency [MHz]', scg_ylabel='Delay [s]',\n",
    "    t_label=r'$V$ [Jy]', f_label=r'$|\\widetilde{V}|$ [Jy Hz]', savefig=None, figsize=(8, 8), dpi=125)\n",
    "\n",
    "# show frequency in MHz\n",
    "# xtk = np.linspace(round(freqsb[10], -6), round(freqsb[-10], -6), 8)  # Band 1\n",
    "xtk = np.linspace(round(freqsb[15], -6), round(freqsb[-15], -6), 8)  # Band 2\n",
    "intticks = (xtk//1e6).astype(int)\n",
    "axes[1].set_xticks(xtk)\n",
    "axes[1].set_xticklabels(intticks)\n",
    "\n",
    "# axes[2].set_xlim(0.15, 150)  # Band 1\n",
    "axes[2].set_xlim((0.5, 50))  # Band 2\n",
    "\n",
    "# plt.savefig(os.path.join(save_fig_dir, 'plot_wav_ft_anom2.pdf'), bbox_inches='tight')\n",
    "plt.show()"
   ]
  },
  {
   "cell_type": "markdown",
   "id": "9653a2a3",
   "metadata": {},
   "source": [
    "## Supporting plots"
   ]
  },
  {
   "cell_type": "markdown",
   "id": "f94ef274",
   "metadata": {},
   "source": [
    "### Blackman-Harris window"
   ]
  },
  {
   "cell_type": "code",
   "execution_count": null,
   "id": "c6a85c18",
   "metadata": {},
   "outputs": [],
   "source": [
    "blg = 2  # choose 2nd baseline group\n",
    "ew_short_bls = np.where(redg[:, 0] == blg)[0]\n",
    "d = data[f1[f1.size//2], :, ew_short_bls]\n",
    "\n",
    "d_plt = np.abs(d.T)\n",
    "mask = np.ones(d_plt.shape, dtype=bool)\n",
    "mask[np.concatenate((b1, b2)), :] = False\n",
    "d_plt_flg = d_plt.copy()\n",
    "d_plt_flg[~mask] *= np.nan\n",
    "d_plt[mask] *= np.nan\n",
    "\n",
    "print(f'Looking at baselines redundant to {redg[ew_short_bls[0], 1:]} at LST {lsts[f1[f1.size//2]]:.2f} h')"
   ]
  },
  {
   "cell_type": "code",
   "execution_count": null,
   "id": "e798f330",
   "metadata": {},
   "outputs": [],
   "source": [
    "# fig, axes = plt.subplots(nrows=2, figsize=(6, 8), dpi=125)\n",
    "fig = plt.figure(figsize=(8, 7), constrained_layout=True, dpi=125)\n",
    "\n",
    "gs = fig.add_gridspec(2, 2, height_ratios=[1, 1], width_ratios=[1, 1])\n",
    "\n",
    "# Final pI visibility amplitudes of 14 m EW baselines with BH windows\n",
    "ax1 = plt.subplot(gs[0, :])\n",
    "ax1.plot(freqsm, d_plt, alpha=0.5, zorder=2)\n",
    "ax1.plot(freqsm, d_plt_flg, alpha=0.2, c='grey', zorder=2)\n",
    "\n",
    "# ax.set_yscale('log')\n",
    "ax1.set_ylim(0, 60)\n",
    "ax1.set_xlabel('Frequency [MHz]')\n",
    "ax1.set_ylabel(r'$|V|$ [Jy]')\n",
    "\n",
    "ax1_b = ax1.twinx()\n",
    "w1 = signal.blackmanharris(b1.size)\n",
    "# ax1_b.plot(freqsm[b1], w1, c='forestgreen', zorder=10)\n",
    "ax1_b.fill_between(freqsm[b1], w1, color='orange', alpha=0.5)\n",
    "w2 = signal.blackmanharris(b2.size)\n",
    "# ax1_b.plot(freqsm[b2], w2, c='orange', zorder=10)\n",
    "ax1_b.fill_between(freqsm[b2], w2, color='green', alpha=0.5)\n",
    "ax1_b.set_ylim(0, 1.15)\n",
    "\n",
    "ax1_b.text(freqsm[b1].mean(), 1.05, 'Band 1', fontsize=12, ha='center', color='orange')\n",
    "ax1_b.text(freqsm[b2].mean(), 1.05, 'Band 2', fontsize=12, ha='center', color='green')\n",
    "ax1_b.set_ylabel('Window amplitude')\n",
    "\n",
    "ax1.set_zorder(2)\n",
    "ax1_b.set_zorder(1)\n",
    "ax1.patch.set_visible(False)\n",
    "\n",
    "\n",
    "# Band 1 FFT\n",
    "ax2 = plt.subplot(gs[1, 0])\n",
    "\n",
    "vft1 = scipy.fft.fft(d[:, b1]*w1)\n",
    "dly1 = scipy.fft.fftfreq(b1.size, hd.channel_width)\n",
    "\n",
    "dly_sort1 = np.argsort(dly1)\n",
    "dly1 = dly1[dly_sort1]\n",
    "vft1 = vft1[:, dly_sort1]\n",
    "\n",
    "ax2.plot(dly1*1e6, np.abs(vft1.T), alpha=0.5)\n",
    "ax2.set_yscale('log')\n",
    "ax2.set_xlabel(r'Delay [$\\mu$s]')\n",
    "ax2.set_ylabel(r'$|\\widetilde{V}|$ [Jy Hz]')\n",
    "\n",
    "ax2.text(0.075, 0.9, 'Band 1', fontsize=12, ha='left', color='orange', transform=ax2.transAxes)\n",
    "\n",
    "\n",
    "# Band 2 FFT\n",
    "ax3 = plt.subplot(gs[1, 1], sharey=ax2)\n",
    "\n",
    "vft2 = scipy.fft.fft(d[:, b2]*w2)\n",
    "dly2 = scipy.fft.fftfreq(b2.size, hd.channel_width)\n",
    "\n",
    "dly_sort2 = np.argsort(dly2)\n",
    "dly2 = dly2[dly_sort2]\n",
    "vft2 = vft2[:, dly_sort2]\n",
    "\n",
    "ax3.plot(dly2*1e6, np.abs(vft2.T), alpha=0.5)\n",
    "ax3.get_yaxis().set_visible(False)\n",
    "ax3.set_xlabel(r'Delay [$\\mu$s]')\n",
    "\n",
    "ax3.text(0.075, 0.9, 'Band 2', fontsize=12, ha='left', color='green', transform=ax3.transAxes)\n",
    "\n",
    "\n",
    "# FFT of BH window\n",
    "iax = inset_axes(ax3, width='30%', height='35%', loc=1)\n",
    "iax.tick_params(axis='both', labelsize=6)\n",
    "\n",
    "w = signal.windows.blackmanharris(b1.size)\n",
    "wft = scipy.fft.fft(w, 2**12)  # increase sampling on FFT end\n",
    "response = np.abs(scipy.fft.fftshift(wft / np.abs(wft).max()))  # normalize\n",
    "response = 20 * np.log10(response)  # as amplitude^2 propto power and dB measures power\n",
    "freq = np.linspace(-b1.size/2, b1.size/2, len(wft))  # convert to frequency bins\n",
    "\n",
    "iax.plot(freq, response, lw=1)\n",
    "\n",
    "iax.text(0.1, 0.8, r'$|\\widetilde{W}|$', fontsize=8, ha='left', transform=iax.transAxes)\n",
    "iax.set_ylabel('dB', fontsize=8)\n",
    "iax.set_xlabel('Delay Bin', fontsize=8)\n",
    "iax.set_xlim(-15, 15)\n",
    "iax.set_ylim(-130, 5)\n",
    "\n",
    "\n",
    "# plt.savefig(os.path.join(save_fig_dir, 'BH_window.pdf'), bbox_inches='tight')\n",
    "plt.show()"
   ]
  },
  {
   "cell_type": "code",
   "execution_count": null,
   "id": "18fce8e4",
   "metadata": {},
   "outputs": [],
   "source": [
    "fig, ax = plt.subplots(figsize=(6, 4), dpi=125)\n",
    "\n",
    "w = signal.windows.blackmanharris(b1.size)\n",
    "wft = scipy.fft.fft(w, n=2**13)  # increase sampling on FFT end\n",
    "response = np.abs(scipy.fft.fftshift(wft / np.abs(wft).max()))  # normalize\n",
    "response = 20 * np.log10(response)  # as amplitude^2 propto power and dB measures power\n",
    "freq = np.linspace(-b1.size/2, b1.size/2, len(wft))  # convert to frequency bins\n",
    "\n",
    "ax.plot(freq, response)\n",
    "\n",
    "ax.set_ylabel('dB')\n",
    "ax.set_xlabel('Delay Bin')\n",
    "ax.set_xlim(-40, 40)\n",
    "ax.set_ylim(-130, 5)\n",
    "\n",
    "plt.tight_layout()\n",
    "plt.show()"
   ]
  }
 ],
 "metadata": {
  "kernelspec": {
   "display_name": "hera",
   "language": "python",
   "name": "hera"
  },
  "language_info": {
   "codemirror_mode": {
    "name": "ipython",
    "version": 3
   },
   "file_extension": ".py",
   "mimetype": "text/x-python",
   "name": "python",
   "nbconvert_exporter": "python",
   "pygments_lexer": "ipython3",
   "version": "3.9.13"
  },
  "toc": {
   "base_numbering": 1,
   "nav_menu": {},
   "number_sections": true,
   "sideBar": true,
   "skip_h1_title": false,
   "title_cell": "Table of Contents",
   "title_sidebar": "Contents",
   "toc_cell": false,
   "toc_position": {},
   "toc_section_display": true,
   "toc_window_display": false
  },
  "varInspector": {
   "cols": {
    "lenName": 16,
    "lenType": 16,
    "lenVar": 40
   },
   "kernels_config": {
    "python": {
     "delete_cmd_postfix": "",
     "delete_cmd_prefix": "del ",
     "library": "var_list.py",
     "varRefreshCmd": "print(var_dic_list())"
    },
    "r": {
     "delete_cmd_postfix": ") ",
     "delete_cmd_prefix": "rm(",
     "library": "var_list.r",
     "varRefreshCmd": "cat(var_dic_list()) "
    }
   },
   "types_to_exclude": [
    "module",
    "function",
    "builtin_function_or_method",
    "instance",
    "_Feature"
   ],
   "window_display": false
  }
 },
 "nbformat": 4,
 "nbformat_minor": 5
}
