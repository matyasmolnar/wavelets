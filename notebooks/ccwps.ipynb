{
 "cells": [
  {
   "cell_type": "markdown",
   "id": "5e7b9399",
   "metadata": {},
   "source": [
    "<center><strong><font size=+3>Cross Continuous Wavelet Power Spectra</font></center>\n",
    "<br><br>\n",
    "</center>\n",
    "<center><strong><font size=+2>Matyas Molnar and Bojan Nikolic</font><br></strong></center>\n",
    "<br><center><strong><font size=+1>Astrophysics Group, Cavendish Laboratory, University of Cambridge</font></strong></center>"
   ]
  },
  {
   "cell_type": "code",
   "execution_count": null,
   "id": "eafb06c9",
   "metadata": {},
   "outputs": [],
   "source": [
    "import itertools\n",
    "import os\n",
    "\n",
    "import numpy as np\n",
    "from matplotlib import pyplot as plt\n",
    "from matplotlib.colors import LogNorm\n",
    "from mpl_toolkits.axes_grid1 import AxesGrid, make_axes_locatable\n",
    "\n",
    "import pywt\n",
    "from wavelets.plotting import cws\n",
    "from wavelets.utils import DATAPATH"
   ]
  },
  {
   "cell_type": "code",
   "execution_count": null,
   "id": "7353d027",
   "metadata": {},
   "outputs": [],
   "source": [
    "%matplotlib inline"
   ]
  },
  {
   "cell_type": "code",
   "execution_count": null,
   "id": "a529c8e7",
   "metadata": {},
   "outputs": [],
   "source": [
    "from matplotlib import rc\n",
    "rc('font',**{'family':'serif','serif':['cm']})\n",
    "rc('text', usetex=True)\n",
    "rc('text.latex', preamble=r'\\usepackage{amssymb} \\usepackage{amsmath}')"
   ]
  },
  {
   "cell_type": "code",
   "execution_count": null,
   "id": "1d1192e9",
   "metadata": {},
   "outputs": [],
   "source": [
    "band_1 = [175, 334]\n",
    "band_2 = [515, 694]\n",
    "\n",
    "field_1 = [1.25, 2.70]\n",
    "field_2 = [4.50, 6.50]\n",
    "field_3 = [8.50, 10.75]\n",
    "\n",
    "bad_ants = [0, 2, 11, 24, 50, 53, 54, 67, 69, 98, 122, 136, 139]"
   ]
  },
  {
   "cell_type": "code",
   "execution_count": null,
   "id": "93b70cb9",
   "metadata": {},
   "outputs": [],
   "source": [
    "save_fig_dir = '/lustre/aoc/projects/hera/mmolnar/figs'"
   ]
  },
  {
   "cell_type": "code",
   "execution_count": null,
   "id": "281791fb",
   "metadata": {},
   "outputs": [],
   "source": [
    "npz_b1 = np.load(os.path.join(DATAPATH, 'cwt_b1.npz'))\n",
    "npz_b2 = np.load(os.path.join(DATAPATH, 'cwt_b2.npz'))\n",
    "data1 = npz_b1['cwt']\n",
    "data2 = npz_b2['cwt']"
   ]
  },
  {
   "cell_type": "code",
   "execution_count": null,
   "id": "4f2777d5",
   "metadata": {},
   "outputs": [],
   "source": [
    "lsts = npz_b1['lsts']\n",
    "redg = npz_b1['redg']\n",
    "chans1 = npz_b1['chans']\n",
    "chans2 = npz_b2['chans']\n",
    "freqs1 = npz_b1['freqs']\n",
    "freqs2 = npz_b2['freqs']\n",
    "wavelet = npz_b1['wavelet'].item()\n",
    "scales = npz_b1['scales']\n",
    "f_res = np.median(np.ediff1d(freqs1))"
   ]
  },
  {
   "cell_type": "code",
   "execution_count": null,
   "id": "0853f0e0",
   "metadata": {},
   "outputs": [],
   "source": [
    "f1 = np.where((lsts > field_1[0]) & (lsts < field_1[1]))[0]\n",
    "f2 = np.where((lsts > field_2[0]) & (lsts < field_2[1]))[0]\n",
    "f3 = np.where((lsts > field_3[0]) & (lsts < field_3[1]))[0]"
   ]
  },
  {
   "cell_type": "code",
   "execution_count": null,
   "id": "3c4aca5d",
   "metadata": {},
   "outputs": [],
   "source": [
    "ew14 = np.where(redg[:, 0] == 2)[0]\n",
    "ew28 = np.where(redg[:, 0] == 6)[0]"
   ]
  },
  {
   "cell_type": "markdown",
   "id": "a4da700b",
   "metadata": {},
   "source": [
    "## CCWPS"
   ]
  },
  {
   "cell_type": "markdown",
   "id": "f9881458",
   "metadata": {},
   "source": [
    "### Jansky an delay units"
   ]
  },
  {
   "cell_type": "markdown",
   "id": "704bd55c",
   "metadata": {},
   "source": [
    "#### Try Band 1 Field 1"
   ]
  },
  {
   "cell_type": "code",
   "execution_count": null,
   "id": "0ec029fd",
   "metadata": {},
   "outputs": [],
   "source": [
    "blg = ew28\n",
    "f = f1\n",
    "data = data1[..., f1, :]"
   ]
  },
  {
   "cell_type": "code",
   "execution_count": null,
   "id": "ec8c4e98",
   "metadata": {},
   "outputs": [],
   "source": [
    "# cross-PS between all baseline pairs\n",
    "bl_pairs = list(itertools.permutations(np.arange(blg.size), r=2))\n",
    "bls1 = [i[0] for i in bl_pairs]\n",
    "bls2 = [i[1] for i in bl_pairs]"
   ]
  },
  {
   "cell_type": "code",
   "execution_count": null,
   "id": "561bf46b",
   "metadata": {},
   "outputs": [],
   "source": [
    "#we cross multiply adjacent time integrations, but all baseline pairs too\n",
    "cwps_bl = data[...,::2, blg[bls1]] * np.conj(data[..., 1::2, blg[bls2]])"
   ]
  },
  {
   "cell_type": "code",
   "execution_count": null,
   "id": "2329001a",
   "metadata": {},
   "outputs": [],
   "source": [
    "#we incoherently average the power spectra over the redundant baseline axis and across the \n",
    "# remaining time bins in each field\n",
    "cwps = np.nanmean(np.nanmean(cwps_bl, axis=3), axis=2)"
   ]
  },
  {
   "cell_type": "code",
   "execution_count": null,
   "id": "ee1cb05e",
   "metadata": {},
   "outputs": [],
   "source": [
    "fig, ax = plt.subplots(figsize=(5, 5), dpi=125)\n",
    "\n",
    "im1 = ax.pcolormesh(freqs1/1e6, scales, np.abs(cwps), norm=LogNorm(vmax=1e-1), cmap='jet')\n",
    "\n",
    "divider = make_axes_locatable(ax)\n",
    "cax1 = divider.append_axes('right', size='4%', pad=0.1)\n",
    "plt.colorbar(im1, cax=cax1, extend='max')\n",
    "\n",
    "ax.set_ylim((scales[-1]+0.5, scales[0]))\n",
    "ax.set_yscale('log')\n",
    "ax.set_title(r'$\\mathrm{CCWPS}$')\n",
    "ax.set_xlabel('Frequency [MHz]')\n",
    "ax.set_ylabel('Delay [$\\mu$s]')\n",
    "\n",
    "# hack to get delay ylabel\n",
    "ax.set_yticks([1/(f_res*1e-5), 1/(f_res*1e-6)])\n",
    "ax.set_yticklabels([r'$10^1$', r'$10^0$'])\n",
    "# for correct log\n",
    "min_ticks = np.concatenate((1/(f_res*np.linspace(1e-5, 1e-6, 11)), \\\n",
    "                            1/(f_res*np.linspace(1e-6, 1e-7, 11))))[:16]\n",
    "ax.set_yticks(min_ticks, minor=True)\n",
    "ax.set_yticklabels([], minor=True)\n",
    "\n",
    "# redshift?\n",
    "\n",
    "f = lambda x: 1420.4/x - 1\n",
    "g = lambda x: 1420.4/(1+x)\n",
    "\n",
    "ax2 = ax.secondary_xaxis('top', functions=(f, g))\n",
    "ax2.set_xlabel('Redshift')\n",
    "\n",
    "fig.tight_layout()\n",
    "plt.show()"
   ]
  },
  {
   "cell_type": "markdown",
   "id": "76b954b9",
   "metadata": {},
   "source": [
    "#### All bands and fields"
   ]
  },
  {
   "cell_type": "code",
   "execution_count": null,
   "id": "fd936892",
   "metadata": {},
   "outputs": [],
   "source": [
    "blg = ew14\n",
    "freqsb = [freqs1, freqs2]\n",
    "\n",
    "bl_pairs = list(itertools.permutations(np.arange(blg.size), r=2))\n",
    "bls1 = [i[0] for i in bl_pairs]\n",
    "bls2 = [i[1] for i in bl_pairs]\n",
    "\n",
    "fig = plt.figure(figsize=(7, 10), dpi=600)\n",
    "\n",
    "grid = AxesGrid(fig, 111, nrows_ncols=(3, 2), axes_pad=0.15, cbar_location='bottom', \\\n",
    "                cbar_mode='single', cbar_size=0.15, cbar_pad=0.4, direction='column', aspect=False, \\\n",
    "                label_mode='L')\n",
    "min_arr = []\n",
    "c = 0\n",
    "for d, data_ in enumerate([data1, data2]):\n",
    "    \n",
    "    freqs = freqsb[d]\n",
    "    \n",
    "    for f, field in enumerate([f1, f2, f3]):\n",
    "        \n",
    "        data = data_[..., field, :]\n",
    "        cwps_bl = data[...,::2, blg[bls1]] * np.conj(data[..., 1::2, blg[bls2]])\n",
    "        cwps = np.nanmean(np.nanmean(cwps_bl, axis=3), axis=2)\n",
    "        \n",
    "        min_arr.append(np.nanmin(np.abs(cwps)))\n",
    "\n",
    "        im = grid[c].pcolormesh(freqs/1e6, scales, np.abs(cwps), norm=LogNorm(vmin=1e-5, vmax=1e-1), cmap='jet')\n",
    "        \n",
    "        c += 1\n",
    "#         break\n",
    "    \n",
    "#     break\n",
    "\n",
    "grid.cbar_axes[0].colorbar(im, extend='both', label=r'$|\\mathrm{CWPS}|$')\n",
    "    \n",
    "for ax in grid:\n",
    "    ax.set_ylim((scales[-1]+0.5, scales[0]))\n",
    "    ax.set_yscale('log')\n",
    "\n",
    "    # hack to get delay ylabel\n",
    "    ax.set_yticks([1/(f_res*1e-5), 1/(f_res*1e-6)])\n",
    "    ax.set_yticklabels([r'$10^1$', r'$10^0$'])\n",
    "    # for correct log\n",
    "    min_ticks = np.concatenate((1/(f_res*np.linspace(1e-5, 1e-6, 11)), \\\n",
    "                                1/(f_res*np.linspace(1e-6, 1e-7, 11))))[:19]\n",
    "    ax.set_yticks(min_ticks, minor=True)\n",
    "    ax.set_yticklabels([], minor=True)\n",
    "\n",
    "for i in range(3):\n",
    "    grid[i].set_ylabel(f'Field {i+1}\\n\\nDelay [$\\mu$s]')\n",
    "    \n",
    "for i in (2, 5):\n",
    "    grid[i].set_xlabel('Frequency [MHz]')\n",
    "    \n",
    "grid[0].set_title('Band 1')\n",
    "grid[3].set_title('Band 2')\n",
    "\n",
    "# grid[2].set_xticks([118, 120, 122, 124, 126, 128, 130, 132])\n",
    "# grid[5].set_xticks([152, 154, 156, 158, 160, 162, 164, 166])\n",
    "\n",
    "f = lambda x: (1420.4/x) - 1\n",
    "g = lambda x: 1420.4/(1+x)\n",
    "\n",
    "for i in (0, 3):\n",
    "    ax2 = grid[i].secondary_xaxis('top', functions=(f, g))\n",
    "    ax2.set_xlabel('\\nRedshift')\n",
    "\n",
    "# plt.savefig(os.path.join(save_fig_dir, 'cwps_14m_ew.pdf'), bbox_inches='tight')\n",
    "plt.show()"
   ]
  },
  {
   "cell_type": "markdown",
   "id": "69eaaca8",
   "metadata": {},
   "source": [
    "### Cosmological units\n",
    "\n",
    "Work in progress..."
   ]
  },
  {
   "cell_type": "code",
   "execution_count": null,
   "id": "9763945d",
   "metadata": {},
   "outputs": [],
   "source": [
    "import hera_pspec as hp\n",
    "import pyuvdata\n",
    "from hera_pspec.conversions import Cosmo_Conversions\n",
    "from hera_pspec.data import DATA_PATH as HPDP"
   ]
  },
  {
   "cell_type": "markdown",
   "id": "6a1d312e",
   "metadata": {},
   "source": [
    "#### Cosmological units for power"
   ]
  },
  {
   "cell_type": "code",
   "execution_count": null,
   "id": "d6cff901",
   "metadata": {},
   "outputs": [],
   "source": [
    "b = 0\n",
    "freqs = freqsb[b]"
   ]
  },
  {
   "cell_type": "code",
   "execution_count": null,
   "id": "682227a5",
   "metadata": {},
   "outputs": [],
   "source": [
    "cosmo = hp.conversions.Cosmo_Conversions()\n",
    "beamfile = os.path.join(HPDP, 'HERA_NF_pstokes_power.beamfits')\n",
    "uvb = hp.pspecbeam.PSpecBeamUV(beamfile, cosmo=cosmo)\n",
    "\n",
    "# find conversion factor from Jy to mK\n",
    "Jy_to_mK = uvb.Jy_to_mK(freqs, pol='pI')"
   ]
  },
  {
   "cell_type": "code",
   "execution_count": null,
   "id": "a562e833",
   "metadata": {},
   "outputs": [],
   "source": [
    "uvb.compute_pspec_scalar(freqsb[0][0], freqsb[0][-1] + np.median(np.diff(freqsb[0])), \n",
    "                         len(freqsb[b]), pol='pI', little_h=True)"
   ]
  },
  {
   "cell_type": "markdown",
   "id": "090f82fb",
   "metadata": {},
   "source": [
    "#### Convert delay to k_para"
   ]
  },
  {
   "cell_type": "code",
   "execution_count": null,
   "id": "293f1cca",
   "metadata": {},
   "outputs": [],
   "source": [
    "cosmo.tau_to_kpara(z=7.9, little_h=True)*0.4/1e6"
   ]
  }
 ],
 "metadata": {
  "kernelspec": {
   "display_name": "hera",
   "language": "python",
   "name": "hera"
  },
  "language_info": {
   "codemirror_mode": {
    "name": "ipython",
    "version": 3
   },
   "file_extension": ".py",
   "mimetype": "text/x-python",
   "name": "python",
   "nbconvert_exporter": "python",
   "pygments_lexer": "ipython3",
   "version": "3.9.13"
  }
 },
 "nbformat": 4,
 "nbformat_minor": 5
}
