{
 "cells": [
  {
   "cell_type": "markdown",
   "id": "f3cb1714",
   "metadata": {},
   "source": [
    "<center><strong><font size=+3>Wavelet illustrations</font></center>\n",
    "<br><br>\n",
    "</center>\n",
    "<center><strong><font size=+2>Matyas Molnar and Bojan Nikolic</font><br></strong></center>\n",
    "<br><center><strong><font size=+1>Astrophysics Group, Cavendish Laboratory, University of Cambridge</font></strong></center>"
   ]
  },
  {
   "cell_type": "code",
   "execution_count": null,
   "id": "c8444648",
   "metadata": {},
   "outputs": [],
   "source": [
    "import os\n",
    "\n",
    "import numpy as np\n",
    "import scipy\n",
    "from matplotlib import pyplot as plt\n",
    "\n",
    "import pywt"
   ]
  },
  {
   "cell_type": "code",
   "execution_count": null,
   "id": "446de68d",
   "metadata": {},
   "outputs": [],
   "source": [
    "%matplotlib inline"
   ]
  },
  {
   "cell_type": "code",
   "execution_count": null,
   "id": "de12e15e",
   "metadata": {},
   "outputs": [],
   "source": [
    "from matplotlib import rc\n",
    "rc('font',**{'family':'serif','serif':['cm']})\n",
    "rc('text', usetex=True)\n",
    "rc('text.latex', preamble=r'\\usepackage{amssymb} \\usepackage{amsmath}')"
   ]
  },
  {
   "cell_type": "code",
   "execution_count": null,
   "id": "3ca9b634",
   "metadata": {},
   "outputs": [],
   "source": [
    "save_fig_dir = '/lustre/aoc/projects/hera/mmolnar/figs'\n",
    "if not os.path.exists(save_fig_dir):\n",
    "    save_fig_dir = '/Users/matyasmolnar/Desktop/Thesis/CHAP-5/FIGS'"
   ]
  },
  {
   "cell_type": "markdown",
   "id": "034ba880",
   "metadata": {},
   "source": [
    "### Heisenberg boxes"
   ]
  },
  {
   "cell_type": "code",
   "execution_count": null,
   "id": "76d6cf20",
   "metadata": {},
   "outputs": [],
   "source": [
    "# choose wavelet\n",
    "wavelet = 'cmor1.5-1.0'"
   ]
  },
  {
   "cell_type": "code",
   "execution_count": null,
   "id": "745a62ce",
   "metadata": {},
   "outputs": [],
   "source": [
    "fig, ax = plt.subplots(figsize=(5, 5), dpi=125, sharey=True)\n",
    "\n",
    "c1 = 'darkorchid'\n",
    "c2 = 'darkorange'\n",
    "\n",
    "# Mother wavelet\n",
    "wav = pywt.ContinuousWavelet(wavelet)  # 'cmor1.5-1.0'\n",
    "m_fun_wav, m_time = wav.wavefun(length=int(1e5))\n",
    "fun_wav_c = m_fun_wav.copy()\n",
    "m_fun_wav /= m_fun_wav.max() * 2\n",
    "m_fun_wav[np.abs(m_fun_wav) < 1e-3] *= np.nan\n",
    "\n",
    "\n",
    "# 1st wavelet\n",
    "shift1 = 10\n",
    "time1 = m_time + shift1\n",
    "ax.plot(time1, m_fun_wav.real, label=r'', color=c1)\n",
    "\n",
    "wt = scipy.fft.fftshift(scipy.fft.fft(fun_wav_c, n=int(1e6)))  # increase sampling on FFT end\n",
    "nrm = wt.max()\n",
    "wt_nrm = wt/nrm\n",
    "df = np.median(np.ediff1d(m_time))\n",
    "wt_frqs = scipy.fft.fftshift(scipy.fft.fftfreq(fun_wav_c.size, df))\n",
    "wt_frqs = np.interp(np.arange(wt.size)/wt.size, np.arange(wt_frqs.size)/wt_frqs.size, wt_frqs)\n",
    "wt_nrm[np.abs(wt_nrm) < 1e-2] *= np.nan\n",
    "ax.plot(np.abs(wt_nrm), wt_frqs, color=c1)\n",
    "\n",
    "# idxs1 = np.isnan(m_fun_wav)\n",
    "# ifw = m_fun_wav[~idxs1]\n",
    "# it = m_time[~idxs1]\n",
    "# idxs2 = np.isnan(wt_nrm)\n",
    "# iwt = wt_nrm[~idxs2]\n",
    "# ifr = wt_frqs[~idxs2]\n",
    "\n",
    "# stdt1 = np.sqrt(scipy.integrate.simpson(np.abs(ifw*np.conj(ifw)) * it**2, it))\n",
    "# stdf1 = np.sqrt(scipy.integrate.simpson(np.abs(iwt*np.conj(iwt)) * ifr**2, ifr))\n",
    "\n",
    "# rect = patches.Rectangle((10-stdt1/2, 1-stdf1/2), stdt1, stdf1, linewidth=1, edgecolor='r', facecolor='none')\n",
    "# ax.add_patch(rect)\n",
    "\n",
    "\n",
    "# 2nd wavelet\n",
    "shift2 = 4\n",
    "scale = 1/4\n",
    "time2 = (scale*m_time + shift2)\n",
    "ax.plot(time2, m_fun_wav.real, label=r'', color=c2)\n",
    "\n",
    "wt = scipy.fft.fftshift(scipy.fft.fft(fun_wav_c, n=int(1e6)))  # increase sampling on FFT end\n",
    "nrm = wt.max()\n",
    "wt_nrm = wt/nrm\n",
    "df = np.median(np.ediff1d(scale*m_time))\n",
    "wt_frqs = scipy.fft.fftshift(scipy.fft.fftfreq(m_fun_wav.size, df))\n",
    "wt_frqs = np.interp(np.arange(wt.size)/wt.size, np.arange(wt_frqs.size)/wt_frqs.size, wt_frqs)\n",
    "wt_nrm[np.abs(wt_nrm) < 1e-2] *= np.nan\n",
    "ax.plot(np.abs(wt_nrm), wt_frqs, color=c2)\n",
    "\n",
    "\n",
    "ax.set_xlabel('Time')\n",
    "ax.set_ylabel('Frequency')\n",
    "\n",
    "# ax.spines['left'].set_position('zero')\n",
    "ax.spines['bottom'].set_position('zero')\n",
    "\n",
    "ax.hlines(y=0, xmin=0, xmax=14, color='k', zorder=-1, lw=1)\n",
    "ax.vlines(x=0, ymin=0, ymax=6.5, color='k', zorder=-1, lw=1)\n",
    "\n",
    "ax.hlines(y=1, xmin=0, xmax=shift1, color='grey', zorder=-1, lw=1, ls='--')\n",
    "ax.vlines(x=shift1, ymin=0, ymax=1, color='grey', zorder=-1, lw=1, ls='--')\n",
    "\n",
    "ax.hlines(y=1/scale, xmin=0, xmax=shift2, color='grey', zorder=-1, lw=1, ls='--')\n",
    "ax.vlines(x=shift2, ymin=0, ymax=1/scale, color='grey', zorder=-1, lw=1, ls='--')\n",
    "\n",
    "ax.spines['left'].set_color('none')\n",
    "ax.spines['bottom'].set_color('none')\n",
    "ax.spines['top'].set_color('none')\n",
    "ax.spines['right'].set_color('none')\n",
    "\n",
    "ax.set_ylim(-0.5, 6.5)\n",
    "ax.set_xlim(-0.5, 14)\n",
    "\n",
    "ax.xaxis.set_ticks([])\n",
    "ax.yaxis.set_ticks([])\n",
    "\n",
    "fig.tight_layout()\n",
    "# plt.savefig(os.path.join(save_fig_dir, 'heisinberg_boxes.pdf'), bbox_inches='tight')\n",
    "plt.show()"
   ]
  },
  {
   "cell_type": "markdown",
   "id": "4d230482",
   "metadata": {},
   "source": [
    "### FT, STFT, CWT illustration"
   ]
  },
  {
   "cell_type": "code",
   "execution_count": null,
   "id": "b739b835",
   "metadata": {},
   "outputs": [],
   "source": [
    "fig, axes = plt.subplots(ncols=3, figsize=(8, 4), dpi=150, sharey=True)\n",
    "\n",
    "for ax in axes:\n",
    "    ax.set_xlabel('Time')\n",
    "    ax.xaxis.set_ticks([])\n",
    "    ax.yaxis.set_ticks([])\n",
    "    ax.set_aspect('equal')\n",
    "\n",
    "\n",
    "# DFT\n",
    "for f in np.linspace(0, 1, 17)[1:-1]:\n",
    "    axes[0].axhline(f)\n",
    "\n",
    "\n",
    "# STFT\n",
    "for f in np.linspace(0, 1, 9)[1:-1]:\n",
    "    axes[1].axhline(f)\n",
    "    axes[1].axvline(f)\n",
    "\n",
    "\n",
    "# CWT\n",
    "r = np.linspace(0, 1, 17)[1:-1]\n",
    "for f in r:\n",
    "    axes[2].axvline(f, ymin=0.5, ymax=1)\n",
    "axes[2].axhline(0.5)\n",
    "for f in r[1::2]:\n",
    "    axes[2].axvline(f, ymin=0.5/2, ymax=1/2)\n",
    "axes[2].axhline(0.25)\n",
    "for f in r[3::4]:\n",
    "    axes[2].axvline(f, ymin=0.5/4, ymax=1/4)\n",
    "axes[2].axhline(0.125)\n",
    "for f in r[7::8]:\n",
    "    axes[2].axvline(f, ymin=0.5/8, ymax=1/8)\n",
    "axes[2].axhline(0.125/2)\n",
    "\n",
    "\n",
    "axes[0].set_ylabel('Frequency')\n",
    "axes[0].set_title('FT')\n",
    "axes[1].set_title('STFT')\n",
    "axes[2].set_title('WT')\n",
    "\n",
    "fig.tight_layout()\n",
    "# plt.savefig(os.path.join(save_fig_dir, 'wt_illustration.pdf'), bbox_inches='tight')\n",
    "plt.show()"
   ]
  }
 ],
 "metadata": {
  "kernelspec": {
   "display_name": "hera",
   "language": "python",
   "name": "hera"
  },
  "language_info": {
   "codemirror_mode": {
    "name": "ipython",
    "version": 3
   },
   "file_extension": ".py",
   "mimetype": "text/x-python",
   "name": "python",
   "nbconvert_exporter": "python",
   "pygments_lexer": "ipython3",
   "version": "3.9.13"
  },
  "toc": {
   "base_numbering": 1,
   "nav_menu": {},
   "number_sections": true,
   "sideBar": true,
   "skip_h1_title": false,
   "title_cell": "Table of Contents",
   "title_sidebar": "Contents",
   "toc_cell": false,
   "toc_position": {},
   "toc_section_display": true,
   "toc_window_display": false
  },
  "varInspector": {
   "cols": {
    "lenName": 16,
    "lenType": 16,
    "lenVar": 40
   },
   "kernels_config": {
    "python": {
     "delete_cmd_postfix": "",
     "delete_cmd_prefix": "del ",
     "library": "var_list.py",
     "varRefreshCmd": "print(var_dic_list())"
    },
    "r": {
     "delete_cmd_postfix": ") ",
     "delete_cmd_prefix": "rm(",
     "library": "var_list.r",
     "varRefreshCmd": "cat(var_dic_list()) "
    }
   },
   "types_to_exclude": [
    "module",
    "function",
    "builtin_function_or_method",
    "instance",
    "_Feature"
   ],
   "window_display": false
  }
 },
 "nbformat": 4,
 "nbformat_minor": 5
}
