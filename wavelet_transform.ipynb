{
 "cells": [
  {
   "cell_type": "markdown",
   "id": "2cbb52ed",
   "metadata": {},
   "source": [
    "<center><strong><font size=+3>Wavelet transforms</font></center>\n",
    "<br><br>\n",
    "</center>\n",
    "<center><strong><font size=+2>Matyas Molnar and Bojan Nikolic</font><br></strong></center>\n",
    "<br><center><strong><font size=+1>Astrophysics Group, Cavendish Laboratory, University of Cambridge</font></strong></center>"
   ]
  },
  {
   "cell_type": "markdown",
   "id": "435a6ac1",
   "metadata": {},
   "source": [
    "The Fourier transform (and hence power spectrum) works very well in transforming a signal from its time-domain to its frequency domain, when the frequency spectrum is stationary and does not evolve in time.\n",
    "\n",
    "The more non-stationary/dynamic a signal is, the worse the results will be, which is the case for most of the signals we see in real life. In 21 cm cosmology, we compute power spectra over considerable frequency bandwidths: the Universe can change over such scales, since frequency maps to redshift. A much better approach for analyzing dynamic signals is to use the wavelet transform instead of the Fourier transform.\n",
    "\n",
    "Furthermore, if erroneous modes exist in the data, these will be locatable to a point in the dual frequency & delay space - these can be found using the wavelet transform."
   ]
  },
  {
   "cell_type": "code",
   "execution_count": null,
   "id": "fb327450",
   "metadata": {},
   "outputs": [],
   "source": [
    "import copy\n",
    "import functools\n",
    "import glob\n",
    "import itertools\n",
    "import os\n",
    "import warnings\n",
    "\n",
    "import h5py\n",
    "import numpy as np\n",
    "from matplotlib import pyplot as plt\n",
    "from matplotlib.colors import LogNorm\n",
    "from scipy import signal\n",
    "from scipy.interpolate import griddata\n",
    "\n",
    "from hera_cal.io import HERAData\n",
    "from hera_cal.redcal import get_reds\n",
    "import hera_pspec as hp\n",
    "\n",
    "import pywt\n",
    "import scaleogram as scg"
   ]
  },
  {
   "cell_type": "code",
   "execution_count": null,
   "id": "b133cbc2",
   "metadata": {},
   "outputs": [],
   "source": [
    "%matplotlib inline"
   ]
  },
  {
   "cell_type": "code",
   "execution_count": null,
   "id": "c0da6d0f",
   "metadata": {},
   "outputs": [],
   "source": [
    "from matplotlib import rc\n",
    "rc('font',**{'family':'serif', 'serif':['cm']})\n",
    "rc('text', usetex=True)\n",
    "rc('text.latex', preamble=r'\\usepackage{amssymb} \\usepackage{amsmath}')"
   ]
  },
  {
   "cell_type": "code",
   "execution_count": null,
   "id": "a8e82724",
   "metadata": {},
   "outputs": [],
   "source": [
    "band_1 = [175, 334]\n",
    "band_2 = [515, 694]\n",
    "\n",
    "field_1 = [1.25, 2.70]\n",
    "field_2 = [4.50, 6.50]\n",
    "field_3 = [8.50, 10.75]\n",
    "\n",
    "bad_ants = [0, 2, 11, 24, 50, 53, 54, 67, 69, 98, 122, 136, 139]"
   ]
  },
  {
   "cell_type": "markdown",
   "id": "f0f54e93",
   "metadata": {},
   "source": [
    "## Load final OCRSLPXTK visibility product"
   ]
  },
  {
   "cell_type": "code",
   "execution_count": null,
   "id": "0a5ab9a9",
   "metadata": {},
   "outputs": [],
   "source": [
    "analysis_dir = '/lustre/aoc/projects/hera/mmolnar/wavelets'"
   ]
  },
  {
   "cell_type": "code",
   "execution_count": null,
   "id": "60858bc1",
   "metadata": {},
   "outputs": [],
   "source": [
    "hr_full_fn = os.path.join(analysis_dir, 'h1c_idr2.OCRSLP2XTK.npz')"
   ]
  },
  {
   "cell_type": "code",
   "execution_count": null,
   "id": "2a8297a8",
   "metadata": {},
   "outputs": [],
   "source": [
    "lstb_dir = '/lustre/aoc/projects/hera/H1C_IDR2/IDR2_2_pspec/v2/one_group/data'\n",
    "final_files = sorted(glob.glob(os.path.join(lstb_dir, 'zen.grp1.of1.LST.*XTK.uvh5')))"
   ]
  },
  {
   "cell_type": "code",
   "execution_count": null,
   "id": "44b8960d",
   "metadata": {},
   "outputs": [],
   "source": [
    "def fltBad(bll, badl, minbl=1):\n",
    "    r1 = map(functools.partial(filter, lambda x: not (x[0] in badl or x[1] \\\n",
    "                               in badl)), bll)\n",
    "    r2 = list(map(list, r1))\n",
    "    return list(filter(lambda x: len(x) >= minbl, r2))\n",
    "\n",
    "def groupBls(bll):\n",
    "    return np.array([(g, i, j) for (g, bl) in enumerate(bll) for (i, j, p) in bl])"
   ]
  },
  {
   "cell_type": "code",
   "execution_count": null,
   "id": "5f7f88b1",
   "metadata": {},
   "outputs": [],
   "source": [
    "hd = HERAData(final_files[0])\n",
    "reds = get_reds(hd.antpos, pols=['ee'])\n",
    "reds = fltBad(reds, bad_ants)\n",
    "redg = groupBls(reds)\n",
    "f_res = hd.channel_width\n",
    "\n",
    "data = np.load(hr_full_fn)['arr_0']"
   ]
  },
  {
   "cell_type": "code",
   "execution_count": null,
   "id": "3c930e88",
   "metadata": {},
   "outputs": [],
   "source": [
    "# get LSTs\n",
    "with warnings.catch_warnings():\n",
    "    warnings.filterwarnings('ignore', message='antenna_diameters is not set. Using known values for HERA.')\n",
    "    \n",
    "    for i, f_file in enumerate(final_files):\n",
    "        file = h5py.File(f_file, 'r')\n",
    "        lsts_i = np.sort(np.unique(file['Header']['lst_array']))\n",
    "        \n",
    "        if i == 0:\n",
    "            lsts = lsts_i\n",
    "            freqs = np.squeeze(file['Header']['freq_array'])\n",
    "            chans = np.arange(freqs.size)\n",
    "        else:\n",
    "            lsts = np.concatenate((lsts, lsts_i))\n",
    "            \n",
    "        file.close()\n",
    "        \n",
    "    lsts = lsts * 12 / np.pi  # convert to hours"
   ]
  },
  {
   "cell_type": "code",
   "execution_count": null,
   "id": "5a007515",
   "metadata": {},
   "outputs": [],
   "source": [
    "extent = [hd.freqs[0], hd.freqs[-1], lsts[-1], lsts[0]]\n",
    "xlim = [hd.freqs[0], round(hd.freqs[-1], -6)]\n",
    "ylim = [np.ceil(lsts[-1]), np.floor(lsts[0])]"
   ]
  },
  {
   "cell_type": "code",
   "execution_count": null,
   "id": "1177e0d2",
   "metadata": {},
   "outputs": [],
   "source": [
    "fig, ax = plt.subplots(figsize=(7, 5), dpi=150)\n",
    "ax.imshow(np.abs(data[..., 0]), aspect='auto', interpolation='None', extent=extent)\n",
    "ax.set_xlim(xlim)\n",
    "ax.set_ylim(ylim)\n",
    "ax.set_xlabel('Frequency')\n",
    "ax.set_ylabel('LST')\n",
    "plt.show()"
   ]
  },
  {
   "cell_type": "code",
   "execution_count": null,
   "id": "a8003414",
   "metadata": {},
   "outputs": [],
   "source": [
    "fig, ax = plt.subplots(figsize=(7, 5), dpi=150)\n",
    "ax.imshow(np.angle(data[..., 0]), aspect='auto', interpolation='None', extent=extent)\n",
    "ax.set_xlim(xlim)\n",
    "ax.set_ylim(ylim)\n",
    "ax.set_xlabel('Frequency')\n",
    "ax.set_ylabel('LST')\n",
    "plt.show()"
   ]
  },
  {
   "cell_type": "markdown",
   "id": "7cfa0b8a",
   "metadata": {},
   "source": [
    "## Running the wavelet transform"
   ]
  },
  {
   "cell_type": "code",
   "execution_count": null,
   "id": "5b2cb536",
   "metadata": {},
   "outputs": [],
   "source": [
    "band = band_1\n",
    "\n",
    "sample_data = data[50, band[0]:band[1]+1, 0]  # pick one time integration\n",
    "freqs = hd.freqs[band[0]:band[1]+1]"
   ]
  },
  {
   "cell_type": "code",
   "execution_count": null,
   "id": "6beac417",
   "metadata": {},
   "outputs": [],
   "source": [
    "fig, ax = plt.subplots(figsize=(6, 4), dpi=125)\n",
    "ax.plot(freqs/1e6, sample_data.real, label=r'$\\mathfrak{Re}(V)$')\n",
    "ax.plot(freqs/1e6, sample_data.imag, label=r'$\\mathfrak{Im}(V)$')\n",
    "ax.set_xlabel('Frequency [MHz]')\n",
    "ax.legend(loc='best')\n",
    "plt.tight_layout()\n",
    "plt.show()"
   ]
  },
  {
   "cell_type": "code",
   "execution_count": null,
   "id": "0951814e",
   "metadata": {},
   "outputs": [],
   "source": [
    "wavelet = 'cmor1.5-1.0'"
   ]
  },
  {
   "cell_type": "code",
   "execution_count": null,
   "id": "ac05f779",
   "metadata": {},
   "outputs": [],
   "source": [
    "fig, axes = plt.subplots(ncols=2, figsize=(6, 4), dpi=125)\n",
    "ax = scg.plot_wav(wavelet, axes=axes)\n",
    "plt.tight_layout()\n",
    "plt.show()"
   ]
  },
  {
   "cell_type": "markdown",
   "id": "f1d786c1",
   "metadata": {},
   "source": [
    "### Continuous wavelet transform"
   ]
  },
  {
   "cell_type": "code",
   "execution_count": null,
   "id": "0c786a24",
   "metadata": {},
   "outputs": [],
   "source": [
    "fig, ax = plt.subplots(figsize=(6, 4), dpi=125)\n",
    "ax, qmesh, v = scg.cws(freqs, sample_data, wavelet=wavelet, cscale='log', coi=True, \\\n",
    "                    ax=ax, spectrum='power', yaxis='frequency', \\\n",
    "                    xlabel='Frequency', ylabel='Delay', yscale='log', cwt_fun='pywt')\n",
    "plt.tight_layout()\n",
    "plt.show()"
   ]
  },
  {
   "cell_type": "code",
   "execution_count": null,
   "id": "0439a8c1",
   "metadata": {},
   "outputs": [],
   "source": [
    "fig, ax = plt.subplots(figsize=(6, 4), dpi=125)\n",
    "ax.imshow(np.log10(v), aspect='auto', interpolation='none', cmap='jet')\n",
    "plt.tight_layout()\n",
    "plt.show()"
   ]
  },
  {
   "cell_type": "code",
   "execution_count": null,
   "id": "da14e7b7",
   "metadata": {},
   "outputs": [],
   "source": [
    "scales = np.arange(1, 2**(np.floor(np.log2(freqs.size))-2), dtype=int)\n",
    "\n",
    "cfs, delays = pywt.cwt(sample_data, scales, wavelet, hd.channel_width)\n",
    "power = np.abs(cfs)**2\n",
    "\n",
    "fig, ax = plt.subplots(figsize=(6, 4), dpi=125)\n",
    "\n",
    "im = ax.contourf(freqs, delays, power, levels=None, extend='both', norm = LogNorm())\n",
    "\n",
    "ax.set_title('Wavelet Power Spectrum')\n",
    "ax.set_xlabel('Frequency')\n",
    "ax.set_ylabel('Delay')\n",
    "ax.set_yscale('log')\n",
    "\n",
    "plt.colorbar(im, format='%.0e')\n",
    "\n",
    "plt.tight_layout()\n",
    "plt.show()"
   ]
  },
  {
   "cell_type": "markdown",
   "id": "2664cf25",
   "metadata": {},
   "source": [
    "### Discrete wavelet decomposition"
   ]
  },
  {
   "cell_type": "code",
   "execution_count": null,
   "id": "46db08f9",
   "metadata": {},
   "outputs": [],
   "source": [
    "# pywt.wavelist(kind='discrete')"
   ]
  },
  {
   "cell_type": "code",
   "execution_count": null,
   "id": "9c65dcd6",
   "metadata": {},
   "outputs": [],
   "source": [
    "disc_wavelet = 'db2'"
   ]
  },
  {
   "cell_type": "code",
   "execution_count": null,
   "id": "880f9855",
   "metadata": {},
   "outputs": [],
   "source": [
    "# calculate approximations of scaling function (phi) and wavelet function (psi) at the given level of refinement.\n",
    "phi, psi, x = pywt.Wavelet(disc_wavelet).wavefun()"
   ]
  },
  {
   "cell_type": "code",
   "execution_count": null,
   "id": "43b59d7a",
   "metadata": {},
   "outputs": [],
   "source": [
    "fig, ax = plt.subplots(figsize=(6, 4), dpi=125)\n",
    "ax.plot(phi, label='Scaling function')\n",
    "ax.plot(psi, label='Wavelet function')\n",
    "ax.legend(loc='best')\n",
    "plt.tight_layout()\n",
    "plt.show()"
   ]
  },
  {
   "cell_type": "code",
   "execution_count": null,
   "id": "6bb90907",
   "metadata": {},
   "outputs": [],
   "source": [
    "coeffs = pywt.wavedec(sample_data, wavelet=disc_wavelet)\n",
    "cA = coeffs[0]\n",
    "cDs = coeffs[1:]\n",
    "levels = len(cDs)\n",
    "lengths = [len(cD) for cD in cDs]\n",
    "col = int(np.max(lengths))\n",
    "\n",
    "cc = np.empty((levels, col), dtype=complex)\n",
    "\n",
    "for level in range(levels):\n",
    "    y = cDs[level]\n",
    "    if lengths[level] < col:\n",
    "        x = np.arange(0.5, len(y)+0.5) * col/len(y)\n",
    "        xi = np.arange(col)\n",
    "        yi = griddata(points=x, values=y, xi=xi, method='nearest')\n",
    "    else:\n",
    "        yi = y\n",
    "    \n",
    "    cc[level, :] = yi\n",
    "    \n",
    "delays = pywt.scale2frequency(disc_wavelet, np.arange(1, levels+1)) / hd.channel_width"
   ]
  },
  {
   "cell_type": "code",
   "execution_count": null,
   "id": "76329925",
   "metadata": {},
   "outputs": [],
   "source": [
    "fig, ax = plt.subplots(figsize=(6, 4), dpi=125)\n",
    "\n",
    "im = ax.imshow(np.abs(cc)**2, aspect='auto', extent=[freqs[0]/1e6, freqs[-1]/1e6, levels+0.5, 0.5], \\\n",
    "               norm=LogNorm(), interpolation='None')\n",
    "cbar = plt.colorbar(im)\n",
    "\n",
    "ax.set_xlabel('Frequency')\n",
    "ax.set_ylabel('Level')\n",
    "\n",
    "ax.invert_yaxis()\n",
    "\n",
    "plt.tight_layout()\n",
    "plt.show()"
   ]
  },
  {
   "cell_type": "markdown",
   "id": "1d3eaf73",
   "metadata": {},
   "source": [
    "### Look at different CWT implementations"
   ]
  },
  {
   "cell_type": "code",
   "execution_count": null,
   "id": "f38db9bc",
   "metadata": {},
   "outputs": [],
   "source": [
    "# scales = np.arange(1, 2**(np.floor(np.log2(freqs.size))-2), dtype=int)\n",
    "scales = np.arange(1, min(len(freqs)/10, 100), dtype=int)\n",
    "\n",
    "cfs, delays = pywt.cwt(sample_data, scales, 'cmor1.5-1.0', sampling_period=hd.channel_width)\n",
    "power = np.abs(cfs)**2"
   ]
  },
  {
   "cell_type": "code",
   "execution_count": null,
   "id": "f50e3350",
   "metadata": {},
   "outputs": [],
   "source": [
    "fig, ax = plt.subplots(figsize=(6, 4), dpi=125)\n",
    "ax.imshow(np.log10(power), aspect='auto', interpolation='none', cmap='jet')\n",
    "plt.tight_layout()\n",
    "plt.show()"
   ]
  },
  {
   "cell_type": "code",
   "execution_count": null,
   "id": "5e0c66ff",
   "metadata": {},
   "outputs": [],
   "source": [
    "cfs, delays = scg.wfun.fastcwt(sample_data, scales, 'cmor1.5-1.0', sampling_period=hd.channel_width)\n",
    "power = np.abs(cfs)**2"
   ]
  },
  {
   "cell_type": "code",
   "execution_count": null,
   "id": "1990b06d",
   "metadata": {},
   "outputs": [],
   "source": [
    "fig, ax = plt.subplots(figsize=(6, 4), dpi=125)\n",
    "ax.imshow(np.log10(power), aspect='auto', interpolation='none', cmap='jet')\n",
    "plt.tight_layout()\n",
    "plt.show()"
   ]
  },
  {
   "cell_type": "code",
   "execution_count": null,
   "id": "798dc70e",
   "metadata": {},
   "outputs": [],
   "source": [
    "scipy_cwt = signal.cwt(sample_data, signal.morlet2, widths=scales)\n",
    "power = np.abs(scipy_cwt)**2"
   ]
  },
  {
   "cell_type": "code",
   "execution_count": null,
   "id": "a151ad26",
   "metadata": {},
   "outputs": [],
   "source": [
    "fig, ax = plt.subplots(figsize=(6, 4), dpi=125)\n",
    "ax.imshow(np.log10(power), aspect='auto', interpolation='none', cmap='jet')\n",
    "plt.tight_layout()\n",
    "plt.show()"
   ]
  },
  {
   "cell_type": "markdown",
   "id": "ad6de560",
   "metadata": {},
   "source": [
    "### Create CWT hypercube"
   ]
  },
  {
   "cell_type": "code",
   "execution_count": null,
   "id": "75a227cc",
   "metadata": {},
   "outputs": [],
   "source": [
    "no_red = len(set(redg[:, 0]))\n",
    "red_data = np.empty_like(data)[..., :no_red]"
   ]
  },
  {
   "cell_type": "code",
   "execution_count": null,
   "id": "eb97080d",
   "metadata": {},
   "outputs": [],
   "source": [
    "for red in range(no_red):\n",
    "    red_idxs = np.where(redg[:, 0] == red)[0]\n",
    "    red_data[..., red] = np.nanmean(data[..., red_idxs], axis=-1)"
   ]
  },
  {
   "cell_type": "code",
   "execution_count": null,
   "id": "b4a5bd1e",
   "metadata": {},
   "outputs": [],
   "source": [
    "fig, ax = plt.subplots(figsize=(7, 5), dpi=150)\n",
    "slct_red = 2\n",
    "vmax = np.nanpercentile(np.abs(red_data[..., slct_red]), 95)\n",
    "ax.imshow(np.abs(red_data[..., slct_red]), aspect='auto', interpolation='None', extent=extent, vmax=vmax)\n",
    "ax.set_xlim(xlim)\n",
    "ax.set_ylim(ylim)\n",
    "ax.set_xlabel('Frequency')\n",
    "ax.set_ylabel('LST')\n",
    "plt.show()"
   ]
  },
  {
   "cell_type": "code",
   "execution_count": null,
   "id": "78c52b20",
   "metadata": {},
   "outputs": [],
   "source": [
    "# # scales = np.arange(1, min(len(freqs)/10, 100), dtype=int)\n",
    "scales = np.arange(1, 18, dtype=int)\n",
    "# data_ = data\n",
    "\n",
    "# # hypercube with dims scales, freqs, times, bls\n",
    "# power_arr = np.zeros((scales.size, band[1]+1 - band[0], data_.shape[0], data_.shape[2]))\n",
    "\n",
    "# for tint in range(data_.shape[0]):\n",
    "#     if tint % 20 == 0:\n",
    "#         print(tint)\n",
    "#     for bl in range(data_.shape[2]):\n",
    "#         cfs, delays = pywt.cwt(data_[tint, band[0]:band[1]+1, bl], scales, 'cmor1.5-1.0', \\\n",
    "#                                sampling_period=hd.channel_width)\n",
    "#         power = np.abs(cfs)**2\n",
    "        \n",
    "#         power_arr[..., tint, bl] = power\n",
    "        \n",
    "# np.savez('cwt_power_b1.npz', power=power_arr, scales=scales, wavelet='cmor1.5-1.0', \\\n",
    "#          delays=delays, freqs=hd.freqs[np.arange(band[0], band[1]+1)], lsts=lsts, redg=redg)"
   ]
  },
  {
   "cell_type": "code",
   "execution_count": null,
   "id": "12d93f7d",
   "metadata": {},
   "outputs": [],
   "source": [
    "p_npz = np.load('cwt_power_b2.npz')"
   ]
  },
  {
   "cell_type": "code",
   "execution_count": null,
   "id": "586a234e",
   "metadata": {},
   "outputs": [],
   "source": [
    "power_arr = p_npz['power']"
   ]
  },
  {
   "cell_type": "code",
   "execution_count": null,
   "id": "3210f770",
   "metadata": {},
   "outputs": [],
   "source": [
    "fig, ax = plt.subplots(figsize=(6, 4), dpi=125)\n",
    "ax.imshow(np.log10(power_arr[..., 180, 500]), aspect='auto', interpolation='none', cmap='jet')\n",
    "plt.tight_layout()\n",
    "plt.show()"
   ]
  }
 ],
 "metadata": {
  "kernelspec": {
   "display_name": "hera",
   "language": "python",
   "name": "hera"
  },
  "language_info": {
   "codemirror_mode": {
    "name": "ipython",
    "version": 3
   },
   "file_extension": ".py",
   "mimetype": "text/x-python",
   "name": "python",
   "nbconvert_exporter": "python",
   "pygments_lexer": "ipython3",
   "version": "3.7.12"
  }
 },
 "nbformat": 4,
 "nbformat_minor": 5
}
