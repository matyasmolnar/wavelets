{
 "cells": [
  {
   "cell_type": "markdown",
   "id": "fce7cfde",
   "metadata": {},
   "source": [
    "<center><strong><font size=+3>Wavelet Power Spectrum Analysis in Napari</font></center>\n",
    "<br><br>\n",
    "</center>\n",
    "<center><strong><font size=+2>Matyas Molnar and Bojan Nikolic</font><br></strong></center>\n",
    "<br><center><strong><font size=+1>Astrophysics Group, Cavendish Laboratory, University of Cambridge</font></strong></center>"
   ]
  },
  {
   "cell_type": "markdown",
   "id": "e96b53ba",
   "metadata": {},
   "source": [
    "### View CWT products in napari"
   ]
  },
  {
   "cell_type": "code",
   "execution_count": null,
   "id": "1bda7796",
   "metadata": {},
   "outputs": [],
   "source": [
    "import os\n",
    "\n",
    "import numpy as np\n",
    "from astropy.stats import mad_std, sigma_clip\n",
    "from matplotlib import pyplot as plt\n",
    "from matplotlib.colors import ListedColormap, LogNorm\n",
    "from mpl_toolkits.axes_grid1 import make_axes_locatable\n",
    "\n",
    "from scipy import signal\n",
    "\n",
    "import pywt\n",
    "import scaleogram as scg\n",
    "\n",
    "from hera_cal.io import HERAData"
   ]
  },
  {
   "cell_type": "code",
   "execution_count": null,
   "id": "e43942dc",
   "metadata": {},
   "outputs": [],
   "source": [
    "from matplotlib import rc\n",
    "rc('font',**{'family':'serif','serif':['cm']})\n",
    "rc('text', usetex=True)\n",
    "rc('text.latex', preamble=r'\\usepackage{amssymb} \\usepackage{amsmath}')"
   ]
  },
  {
   "cell_type": "code",
   "execution_count": null,
   "id": "cdaf71c6",
   "metadata": {},
   "outputs": [],
   "source": [
    "%matplotlib inline"
   ]
  },
  {
   "cell_type": "code",
   "execution_count": null,
   "id": "0ddd049c",
   "metadata": {},
   "outputs": [],
   "source": [
    "npz_f1 = np.load('cwt_power_b1.npz')\n",
    "npz_f2 = np.load('cwt_power_b2.npz')\n",
    "data1 = npz_f1['power']\n",
    "data2 = npz_f2['power']"
   ]
  },
  {
   "cell_type": "code",
   "execution_count": null,
   "id": "1195ef8a",
   "metadata": {},
   "outputs": [],
   "source": [
    "lsts = npz_f1['lsts']\n",
    "redg = npz_f1['redg']\n",
    "chans1 = npz_f1['freqs']\n",
    "chans2 = npz_f2['freqs']\n",
    "wavelet = npz_f1['wavelet'].item()\n",
    "scales = npz_f1['scales']"
   ]
  },
  {
   "cell_type": "code",
   "execution_count": null,
   "id": "f1d9705b",
   "metadata": {},
   "outputs": [],
   "source": [
    "lstb_dir = '/lustre/aoc/projects/hera/H1C_IDR2/IDR2_2/LSTBIN/one_group/grp1'\n",
    "if not os.path.exists(lstb_dir):\n",
    "    lstb_dir = '/Users/matyasmolnar/Downloads/HERA_Data/sample_data/'\n",
    "\n",
    "zen_lstb = os.path.join(lstb_dir, 'zen.grp1.of1.LST.1.31552.HH.OCRSL.uvh5')\n",
    "\n",
    "hd = HERAData(zen_lstb)"
   ]
  },
  {
   "cell_type": "code",
   "execution_count": null,
   "id": "499a0557",
   "metadata": {},
   "outputs": [],
   "source": [
    "# freqs = np.linspace(1e8, 2e8, 1024+1)[:-1]\n",
    "# freq_resolution = np.median(np.ediff1d(freqs))\n",
    "\n",
    "freqs = hd.freqs\n",
    "freq_resolution = hd.channel_width"
   ]
  },
  {
   "cell_type": "code",
   "execution_count": null,
   "id": "beba5c85",
   "metadata": {},
   "outputs": [],
   "source": [
    "# # ant filt to make more manageable\n",
    "# data1 = data1[..., 100:200]\n",
    "# data2 = data2[..., 100:200]"
   ]
  },
  {
   "cell_type": "code",
   "execution_count": null,
   "id": "4c48f7e6",
   "metadata": {},
   "outputs": [],
   "source": [
    "band_1 = [175, 334]\n",
    "band_2 = [515, 694]\n",
    "\n",
    "field_1 = [1.25, 2.70]\n",
    "field_2 = [4.50, 6.50]\n",
    "field_3 = [8.50, 10.75]"
   ]
  },
  {
   "cell_type": "code",
   "execution_count": null,
   "id": "dbe99a63",
   "metadata": {},
   "outputs": [],
   "source": [
    "f1 = np.where((lsts > field_1[0]) & (lsts < field_1[1]))[0]\n",
    "f2 = np.where((lsts > field_2[0]) & (lsts < field_2[1]))[0]\n",
    "f3 = np.where((lsts > field_3[0]) & (lsts < field_3[1]))[0]"
   ]
  },
  {
   "cell_type": "code",
   "execution_count": null,
   "id": "e50c9a86",
   "metadata": {},
   "outputs": [],
   "source": [
    "print(f1, f2, f3, sep='\\n\\n')"
   ]
  },
  {
   "cell_type": "code",
   "execution_count": null,
   "id": "cfe75a21",
   "metadata": {},
   "outputs": [],
   "source": [
    "antsep = {}\n",
    "for row in redg:\n",
    "    antsep[tuple(row[1:])] = np.abs(hd.antpos[row[2]] - hd.antpos[row[1]])\n",
    "\n",
    "proj_ew = 14\n",
    "# baselines with projected EW length < 14 m\n",
    "nan_bls = [i for i, (k, v) in enumerate(antsep.items()) if v[0] < proj_ew]\n",
    "ok_bls = [i for i, (k, v) in enumerate(antsep.items()) if v[0] > proj_ew]"
   ]
  },
  {
   "cell_type": "code",
   "execution_count": null,
   "id": "8c1bf42e",
   "metadata": {},
   "outputs": [],
   "source": [
    "data1[..., nan_bls] *= np.nan\n",
    "data2[..., nan_bls] *= np.nan"
   ]
  },
  {
   "cell_type": "code",
   "execution_count": null,
   "id": "d72f13e5",
   "metadata": {},
   "outputs": [],
   "source": [
    "if False:\n",
    "    \n",
    "    import napari\n",
    "\n",
    "    # get two bands side by side\n",
    "    # careful because B1 and B2 will have different scales..\n",
    "    data_m = np.concatenate((data1, data2), axis=1)\n",
    "    # data_m = data2\n",
    "\n",
    "    # only look at times from Field 2\n",
    "    # in napari - set auto-constrast to \"once\", and adjust contrast limits & gamma\n",
    "    # found that FPS 8 works well, with play mode \"back and forth\" (for time axis)\n",
    "\n",
    "    viewer = napari.view_image(np.log(data_m[:, :, :, :]), colormap='turbo', ndisplay=2, order=(2, 3, 0, 1), \\\n",
    "                               gamma=1, interpolation='nearest', scale=(8, 1, 1, 1))"
   ]
  },
  {
   "cell_type": "markdown",
   "id": "a42d84dc",
   "metadata": {},
   "source": [
    "### Automatic detection"
   ]
  },
  {
   "cell_type": "code",
   "execution_count": null,
   "id": "3c097263",
   "metadata": {},
   "outputs": [],
   "source": [
    "# TODO\n",
    "# same vlims for saved figs"
   ]
  },
  {
   "cell_type": "code",
   "execution_count": null,
   "id": "f26dcdde",
   "metadata": {},
   "outputs": [],
   "source": [
    "SELECT_BAND = 'Band 2' # choose band"
   ]
  },
  {
   "cell_type": "code",
   "execution_count": null,
   "id": "41d4182c",
   "metadata": {},
   "outputs": [],
   "source": [
    "if SELECT_BAND == 'Band 1':\n",
    "    sb = 0\n",
    "    b_freqs = freqs[chans1]\n",
    "    cwt_data = data1\n",
    "    mad_clip_thresh = 2e-1\n",
    "    \n",
    "    \n",
    "if SELECT_BAND == 'Band 2':\n",
    "    sb = 1\n",
    "    b_freqs = freqs[chans2]\n",
    "    cwt_data = data2\n",
    "    mad_clip_thresh = 7e-2"
   ]
  },
  {
   "cell_type": "code",
   "execution_count": null,
   "id": "4c0cea95",
   "metadata": {},
   "outputs": [],
   "source": [
    "axis = (2, 3)  # times and baselines\n",
    "# compute median and MAD across times and baselines\n",
    "med = np.nanmedian(cwt_data, axis=axis)  # shape (scales, freqs)\n",
    "mad = mad_std(cwt_data, axis=axis, ignore_nan=True)  # shape (scales, freqs)\n",
    "\n",
    "# find dimensions to tile over\n",
    "ex_dims = np.ones(cwt_data.ndim, dtype=int)\n",
    "for ax in axis:\n",
    "    ex_dims[ax] = cwt_data.shape[ax]\n",
    "    \n",
    "# tile over dimensions that were averaged over\n",
    "tile_loc = np.tile(np.expand_dims(med, axis=axis), ex_dims)\n",
    "tile_scale = np.tile(np.expand_dims(mad, axis=axis), ex_dims)\n",
    "\n",
    "# calculate modified Z score\n",
    "modz = (cwt_data - tile_loc) / tile_scale"
   ]
  },
  {
   "cell_type": "code",
   "execution_count": null,
   "id": "a98aaf1f",
   "metadata": {},
   "outputs": [],
   "source": [
    "fig, axes = plt.subplots(ncols=2, figsize=(7.5, 4), dpi=125, sharey=True)\n",
    "\n",
    "extent = [b_freqs[0]/1e6, b_freqs[-1]/1e6, med.shape[0]+0.5, 0.5]\n",
    "\n",
    "norm = LogNorm()\n",
    "im1 = axes[0].imshow(med, aspect='auto', interpolation='none', cmap='jet', norm=norm, \\\n",
    "                     extent=extent)\n",
    "im2 = axes[1].imshow(mad, aspect='auto', interpolation='none', cmap='jet', norm=norm, \\\n",
    "                     extent=extent)\n",
    "\n",
    "divider = make_axes_locatable(axes[0])\n",
    "cax1 = divider.append_axes('right', size='5%', pad=0.05)   \n",
    "plt.colorbar(im1, cax=cax1)\n",
    "\n",
    "divider = make_axes_locatable(axes[1])\n",
    "cax2 = divider.append_axes('right', size='5%', pad=0.05)   \n",
    "plt.colorbar(im2, cax=cax2)\n",
    "\n",
    "axes[0].set_ylabel('Wavelet scale')\n",
    "axes[0].set_xlabel('Frequency [MHz]')\n",
    "axes[1].set_xlabel('Frequency [MHz]')\n",
    "\n",
    "axes[0].set_title('Median')\n",
    "axes[1].set_title('MAD')\n",
    "\n",
    "plt.tight_layout()\n",
    "plt.show()"
   ]
  },
  {
   "cell_type": "code",
   "execution_count": null,
   "id": "f20a8da9",
   "metadata": {},
   "outputs": [],
   "source": [
    "fig, axes = plt.subplots(ncols=2, figsize=(8, 4), dpi=125)\n",
    "\n",
    "im1 = axes[0].pcolormesh(b_freqs/1e6, scales+0.5, med, norm=LogNorm(), cmap='jet')\n",
    "axes[0].invert_yaxis()\n",
    "axes[0].set_yscale('log')\n",
    "\n",
    "xtk = np.linspace(round(b_freqs[0], -6), round(b_freqs[-1], -6), 10)\n",
    "intticks = (xtk[1:-1]//1e6).astype(int)\n",
    "\n",
    "axes[0].set_xticks(intticks)\n",
    "axes[0].set_xticklabels(intticks)\n",
    "\n",
    "divider = make_axes_locatable(axes[0])\n",
    "cax1 = divider.append_axes('right', size='5%', pad=0.1)\n",
    "plt.colorbar(im1, cax=cax1)\n",
    "\n",
    "im2 = axes[1].pcolormesh(b_freqs/1e6, scales+0.5, mad, norm=LogNorm(), cmap='jet')\n",
    "axes[1].invert_yaxis()\n",
    "axes[1].set_yscale('log')\n",
    "axes[1].set_xticks(intticks)\n",
    "axes[1].set_xticklabels(intticks)\n",
    "\n",
    "divider = make_axes_locatable(axes[1])\n",
    "cax2 = divider.append_axes('right', size='5%', pad=0.1)\n",
    "plt.colorbar(im2, cax=cax2, label=r'')\n",
    "\n",
    "axes[0].set_title('Median')\n",
    "axes[0].set_xlabel('Frequency [MHz]')\n",
    "axes[1].set_title('MAD')\n",
    "axes[1].set_xlabel('Frequency [MHz]')\n",
    "axes[0].set_ylabel('Scale')\n",
    "axes[1].set_ylabel('Scale')\n",
    "axes[1].yaxis.label.set_color('white')\n",
    "\n",
    "# axes[0].plot(scales*hd.channel_width*np.sqrt(2)/1e6+b_freqs[0]/1e6, scales, c='black')\n",
    "\n",
    "fig.tight_layout()\n",
    "\n",
    "# save_fig_dir = '/lustre/aoc/projects/hera/mmolnar/figs'\n",
    "# plt.savefig(os.path.join(save_fig_dir, 'med_mad_b2_2.pdf'), bbox_inches='tight')\n",
    "\n",
    "plt.show()"
   ]
  },
  {
   "cell_type": "code",
   "execution_count": null,
   "id": "f55def55",
   "metadata": {},
   "outputs": [],
   "source": [
    "hp = mad > mad_clip_thresh\n",
    "cmap_bool = ListedColormap(['green','red'])\n",
    "\n",
    "fig, ax = plt.subplots(figsize=(5, 4), dpi=125, sharey=True)\n",
    "\n",
    "im = ax.imshow(hp, aspect='auto', interpolation='None', cmap=cmap_bool, vmin=0, vmax=1, \\\n",
    "               extent=extent)\n",
    "\n",
    "divider = make_axes_locatable(ax)\n",
    "cax = divider.append_axes('right', size='5%', pad=0.1)   \n",
    "cbar = plt.colorbar(im, cax=cax)\n",
    "\n",
    "cbar.set_ticks([0.25, 0.75])\n",
    "cbar.set_ticklabels(['False', 'True'])\n",
    "\n",
    "ax.set_ylabel('Wavelet scale')\n",
    "ax.set_xlabel('Frequency [MHz]')\n",
    "\n",
    "plt.tight_layout()\n",
    "plt.show()"
   ]
  },
  {
   "cell_type": "code",
   "execution_count": null,
   "id": "a5752117",
   "metadata": {},
   "outputs": [],
   "source": [
    "flged_bls = np.isnan(cwt_data).all(axis=(0, 1, 2))\n",
    "flged_tints = np.isnan(cwt_data).all(axis=(0, 1, 3))"
   ]
  },
  {
   "cell_type": "code",
   "execution_count": null,
   "id": "b6768a79",
   "metadata": {},
   "outputs": [],
   "source": [
    "# Apply flags\n",
    "modz[hp, ...] = np.nan  # flag regions of the scaleogram in the CoI (cone of influence; edge-effect artifacts)\n",
    "modz[..., flged_bls] = np.nan  # flagged baselines (from calibration & from proj EW < 14 m)\n",
    "modz[..., flged_tints, :] = np.nan  # remove fully flagged times\n",
    "\n",
    "# Only look at relevant data\n",
    "# select bands and fields ONLY\n",
    "deslct_tints = np.delete(np.arange(modz.shape[2]), np.concatenate((f1, f2, f3)))\n",
    "modz[..., deslct_tints, :] = np.nan\n",
    "\n",
    "# Look at absolute value of modified Z-score\n",
    "abs_modz = np.abs(modz)"
   ]
  },
  {
   "cell_type": "code",
   "execution_count": null,
   "id": "dea9eefd",
   "metadata": {},
   "outputs": [],
   "source": [
    "sample_abs_modz = abs_modz[..., f2[10], 150]\n",
    "\n",
    "if sample_abs_modz.nonzero()[0].size > 0:\n",
    "    fig, ax = plt.subplots(figsize=(4, 4), dpi=125)\n",
    "    \n",
    "    norm = None  # LogNorm()\n",
    "    im = ax.imshow(sample_abs_modz, aspect='auto', interpolation='None', norm=norm, extent=extent)\n",
    "\n",
    "    divider = make_axes_locatable(ax)\n",
    "    cax = divider.append_axes('right', size='5%', pad=0.05)\n",
    "    \n",
    "    ax.set_title(r'$|\\mathrm{mod} Z|$')\n",
    "    ax.set_ylabel('Wavelet scale')\n",
    "    ax.set_xlabel('Frequency [MHz]')\n",
    "\n",
    "    plt.colorbar(im, cax=cax)\n",
    "    plt.tight_layout()\n",
    "    plt.show()\n",
    "    \n",
    "else:\n",
    "    print('Flagged baseline or time.')"
   ]
  },
  {
   "cell_type": "code",
   "execution_count": null,
   "id": "3449e850",
   "metadata": {},
   "outputs": [],
   "source": [
    "fig, ax = plt.subplots(figsize=(6, 4), dpi=125)\n",
    "\n",
    "ax.hist(abs_modz.ravel(), bins=100, density=False, log=True)\n",
    "\n",
    "ax.set_xlabel(r'Modified $Z$-score')\n",
    "ax.set_ylabel('Number of pixels')\n",
    "\n",
    "plt.tight_layout()\n",
    "plt.show()"
   ]
  },
  {
   "cell_type": "code",
   "execution_count": null,
   "id": "8c98904f",
   "metadata": {},
   "outputs": [],
   "source": [
    "# look at worst offender\n",
    "worst_idx_flat = np.nanargmax(abs_modz)\n",
    "worst_idx = np.unravel_index(worst_idx_flat, abs_modz.shape)\n",
    "print(f'Worst slice is for LST {lsts[worst_idx[2]]:.2f} h and baseline {redg[worst_idx[3]][1:]}')\n",
    "print(f'Modified Z-score of worst slice is {modz[worst_idx]:.2f}')"
   ]
  },
  {
   "cell_type": "code",
   "execution_count": null,
   "id": "c836995d",
   "metadata": {},
   "outputs": [],
   "source": [
    "sort_abs_modz = abs_modz.copy()\n",
    "sort_abs_modz[np.isnan(sort_abs_modz)] = 0\n",
    "sorted_modz_idx = np.argsort(sort_abs_modz.ravel())[::-1]\n",
    "del sort_abs_modz"
   ]
  },
  {
   "cell_type": "code",
   "execution_count": null,
   "id": "1b857ee9",
   "metadata": {},
   "outputs": [],
   "source": [
    "offender = 0\n",
    "\n",
    "bad_idx = np.unravel_index(sorted_modz_idx[offender], abs_modz.shape)\n",
    "sample_abs_modz = abs_modz[..., bad_idx[-2], bad_idx[-1]]\n",
    "\n",
    "abs_modz_vmin = 1e-1\n",
    "\n",
    "print(f'Bad slice is for LST {lsts[bad_idx[2]]:.2f} h and baseline {redg[bad_idx[3]][1:]}')\n",
    "print(f'Modified Z-score of bad slice is {modz[bad_idx]:.2f}')\n",
    "\n",
    "if sample_abs_modz.nonzero()[0].size > 0:\n",
    "    \n",
    "    fig, axes = plt.subplots(ncols=2, figsize=(7.5, 4), dpi=125)\n",
    "    \n",
    "    im1 = axes[0].imshow(sample_abs_modz, aspect='auto', interpolation='None', \\\n",
    "                         norm=LogNorm(vmin=abs_modz_vmin), cmap='jet', extent=extent)\n",
    "    axes[0].scatter(b_freqs[bad_idx[1]]/1e6, bad_idx[0]+1, s=1000, fc='None', edgecolors='cyan', \\\n",
    "                    lw=2, ls='--')\n",
    "    divider = make_axes_locatable(axes[0])\n",
    "    cax1 = divider.append_axes('right', size='5%', pad=0.05)\n",
    "    plt.colorbar(im1, cax=cax1)\n",
    "    axes[0].set_title(r'Modified $Z$-score')\n",
    "    \n",
    "    im2 = axes[1].imshow(cwt_data[..., bad_idx[-2], bad_idx[-1]], aspect='auto', interpolation='None', \\\n",
    "                         norm=LogNorm(), cmap='jet', extent=extent)\n",
    "    axes[1].scatter(b_freqs[bad_idx[1]]/1e6, bad_idx[0]+1, s=1000, fc='None', edgecolors='cyan', \\\n",
    "                    lw=2, ls='--')\n",
    "    divider = make_axes_locatable(axes[1])\n",
    "    cax2 = divider.append_axes('right', size='5%', pad=0.05)\n",
    "    plt.colorbar(im2, cax=cax2)\n",
    "    axes[1].set_title('Scaleogram')\n",
    "    \n",
    "    axes[0].set_ylabel('Wavelet scale')\n",
    "    axes[0].set_xlabel('Frequency [MHz]')\n",
    "    axes[1].set_xlabel('Frequency [MHz]')\n",
    "    \n",
    "    plt.tight_layout()\n",
    "    plt.show()\n",
    "    \n",
    "else:\n",
    "    print('Flagged basline or time.')"
   ]
  },
  {
   "cell_type": "code",
   "execution_count": null,
   "id": "5e8211ad",
   "metadata": {},
   "outputs": [],
   "source": [
    "abs_modz_thresh = 40\n",
    "\n",
    "bad_modz_rav_idxs = sorted_modz_idx[:(abs_modz > abs_modz_thresh).sum()]\n",
    "bad_modz_idxs = [np.unravel_index(i, abs_modz.shape) for i in bad_modz_rav_idxs]\n",
    "bad_modz_t_bl_idxs = [i[2:] for i in bad_modz_idxs]\n",
    "\n",
    "lookup = set()  # a temporary lookup set\n",
    "bad_modz_t_bl = [x for x in bad_modz_t_bl_idxs if x not in lookup and lookup.add(x) is None]"
   ]
  },
  {
   "cell_type": "code",
   "execution_count": null,
   "id": "4d4af823",
   "metadata": {},
   "outputs": [],
   "source": [
    "len(bad_modz_t_bl)"
   ]
  },
  {
   "cell_type": "code",
   "execution_count": null,
   "id": "e2723e41",
   "metadata": {},
   "outputs": [],
   "source": [
    "bad_slice = 0\n",
    "\n",
    "sample_abs_modz = abs_modz[..., bad_modz_t_bl[bad_slice][0], bad_modz_t_bl[bad_slice][1]]\n",
    "\n",
    "blst = lsts[bad_modz_t_bl[bad_slice][0]]\n",
    "bbl = redg[bad_modz_t_bl[bad_slice][1]][1:]\n",
    "print(f'Bad slice is for LST {blst:.2f} h and baseline '\\\n",
    "      f'{bbl}')\n",
    "\n",
    "if sample_abs_modz.nonzero()[0].size > 0:\n",
    "    \n",
    "    fig, axes = plt.subplots(ncols=2, figsize=(7.5, 4), dpi=125)\n",
    "    \n",
    "    for i in bad_modz_idxs:\n",
    "        if i[2:] == bad_modz_t_bl[bad_slice]:\n",
    "            sf_idx = i\n",
    "            break\n",
    "    \n",
    "    im1 = axes[0].imshow(sample_abs_modz, aspect='auto', interpolation='None', \\\n",
    "                         norm=LogNorm(vmin=abs_modz_vmin), cmap='jet', extent=extent)\n",
    "    # circle worst pixel in scaleogram\n",
    "    axes[0].scatter(b_freqs[sf_idx[1]]/1e6, sf_idx[0]+1, s=1000, fc='None', edgecolors='cyan', \\\n",
    "                    lw=2, ls='--')\n",
    "    divider = make_axes_locatable(axes[0])\n",
    "    cax1 = divider.append_axes('right', size='5%', pad=0.05)\n",
    "    plt.colorbar(im1, cax=cax1)\n",
    "    axes[0].set_title(r'Modified $Z$-score')\n",
    "    \n",
    "    \n",
    "    im2 = axes[1].imshow(cwt_data[..., bad_modz_t_bl[bad_slice][0], bad_modz_t_bl[bad_slice][1]], \\\n",
    "                         aspect='auto', interpolation='None', norm=LogNorm(), cmap='jet', extent=extent)\n",
    "    axes[1].scatter(b_freqs[sf_idx[1]]/1e6, sf_idx[0]+1, s=1000, fc='None', edgecolors='cyan', \\\n",
    "                    lw=2, ls='--')\n",
    "    divider = make_axes_locatable(axes[1])\n",
    "    cax2 = divider.append_axes('right', size='5%', pad=0.05)\n",
    "    plt.colorbar(im2, cax=cax2)\n",
    "    axes[1].set_title('Scaleogram')\n",
    "    \n",
    "    axes[0].annotate(SELECT_BAND + f'\\n LST: {blst:.2f} h \\n bl:{bbl} \\n mod-Z:{modz[sf_idx]:.1f}', \\\n",
    "                     xycoords='axes fraction', xy=(0.5, 0.03), ha='center', va='bottom', fontsize=8, \\\n",
    "                     bbox=dict(facecolor='white', edgecolor='black', boxstyle='round, pad=0.3', alpha=0.5))\n",
    "    \n",
    "    axes[0].set_ylabel('Wavelet scale')\n",
    "    axes[0].set_xlabel('Frequency [MHz]')\n",
    "    axes[1].set_xlabel('Frequency [MHz]')\n",
    "    \n",
    "    plt.tight_layout()\n",
    "    plt.show()\n",
    "    \n",
    "else:\n",
    "    print('Flagged basline or time.')"
   ]
  },
  {
   "cell_type": "code",
   "execution_count": null,
   "id": "5c3b9ad7",
   "metadata": {},
   "outputs": [],
   "source": [
    "if False:\n",
    "    \n",
    "    import multiprocess as multiprocessing\n",
    "    \n",
    "    save_dir = os.path.join('/lustre/aoc/projects/hera/mmolnar/wavelets/figures/scg_modz', \\\n",
    "                            SELECT_BAND.replace(' ', '_').lower())\n",
    "    \n",
    "    def bl_iter(bad_slice):\n",
    "\n",
    "#         if bad_slice % 20 == 0:\n",
    "#             print(bad_slice)\n",
    "\n",
    "        sample_abs_modz = abs_modz[..., bad_modz_t_bl[bad_slice][0], bad_modz_t_bl[bad_slice][1]]\n",
    "\n",
    "        blst = lsts[bad_modz_t_bl[bad_slice][0]]\n",
    "        bbl = redg[bad_modz_t_bl[bad_slice][1]][1:]\n",
    "\n",
    "        fig, axes = plt.subplots(ncols=2, figsize=(7.5, 4), dpi=300)\n",
    "\n",
    "        for i in bad_modz_idxs:\n",
    "            if i[2:] == bad_modz_t_bl[bad_slice]:\n",
    "                sf_idx = i\n",
    "                break\n",
    "\n",
    "        im1 = axes[0].imshow(sample_abs_modz, aspect='auto', interpolation='None', norm=LogNorm(), \\\n",
    "                             cmap='jet', extent=extent)\n",
    "        # circle worst pixel in scaleogram\n",
    "        axes[0].scatter(b_freqs[sf_idx[1]]/1e6, sf_idx[0]+1, s=1000, fc='None', edgecolors='cyan', \\\n",
    "                        lw=2, ls='--')\n",
    "        divider = make_axes_locatable(axes[0])\n",
    "        cax1 = divider.append_axes('right', size='5%', pad=0.05)\n",
    "        plt.colorbar(im1, cax=cax1)\n",
    "        axes[0].set_title(r'Modified $Z$-score')\n",
    "\n",
    "\n",
    "        im2 = axes[1].imshow(cwt_data[..., bad_modz_t_bl[bad_slice][0], bad_modz_t_bl[bad_slice][1]], \\\n",
    "                             aspect='auto', interpolation='None', norm=LogNorm(), cmap='jet', extent=extent)\n",
    "        axes[1].scatter(b_freqs[sf_idx[1]]/1e6, sf_idx[0]+1, s=1000, fc='None', edgecolors='cyan', \\\n",
    "                        lw=2, ls='--')\n",
    "        divider = make_axes_locatable(axes[1])\n",
    "        cax2 = divider.append_axes('right', size='5%', pad=0.05)\n",
    "        plt.colorbar(im2, cax=cax2)\n",
    "        axes[1].set_title('Scaleogram')\n",
    "\n",
    "        axes[0].annotate(SELECT_BAND + f'\\n LST: {blst:.2f} h \\n bl:{bbl} \\n mod-Z:{modz[sf_idx]:.1f}', \\\n",
    "                         xycoords='axes fraction', xy=(0.5, 0.03), ha='center', va='bottom', fontsize=8, \\\n",
    "                         bbox=dict(facecolor='white', edgecolor='black', boxstyle='round, pad=0.3', alpha=0.5))\n",
    "\n",
    "        axes[0].set_ylabel('Wavelet scale')\n",
    "        axes[0].set_xlabel('Frequency [MHz]')\n",
    "        axes[1].set_xlabel('Frequency [MHz]')\n",
    "\n",
    "        fig.tight_layout()\n",
    "\n",
    "        save_fn = 'scg_modz_' + str(bad_modz_t_bl[bad_slice]).replace(', ', '_') + '.png'\n",
    "        plt.savefig(os.path.join(save_dir, save_fn), bbox_inches='tight')\n",
    "\n",
    "        plt.close()\n",
    "        \n",
    "    m_pool = multiprocessing.Pool(multiprocessing.cpu_count())\n",
    "    _ = m_pool.map(bl_iter, range(len(bad_modz_t_bl)))\n",
    "    m_pool.close()\n",
    "    m_pool.join()"
   ]
  },
  {
   "cell_type": "code",
   "execution_count": null,
   "id": "a62ceaa9",
   "metadata": {},
   "outputs": [],
   "source": [
    "# convolve abs_mod_z images as don't just want a single bad point, want a bad region"
   ]
  },
  {
   "cell_type": "markdown",
   "id": "f89d9a62",
   "metadata": {},
   "source": [
    "### Notes v1\n",
    "\n",
    "**These notes were taken when analysing all baselines that do not contained flagged antennas. It was then noted that baselines with projected EW < 14 metres are discarded in the power spectrum computation, so the analysis was repeated, with comments written in Notes v2.**\n",
    "\n",
    "In the below by \"delay\" we mean delay of the wavelet, with wavelets of small scale -> compressed wavelet -> rapidly changing details -> higher delay (since the signal is in frequency space to start off with)\n",
    "\n",
    "Redundant analysis:\n",
    " - B1 baseline group 1, 3 power at high-ish delays\n",
    " - B2F2 baseline group 7 power at low delays\n",
    " - B1 & B2 baseline group 12 and 13 has more power at mid delays and high\n",
    " - B1 & B2 baseline group 20, 30, 31, 45 higher power at mid delays\n",
    " - B1 baseline group 67, 68, 72, 74, 82, 83, 88, 101 localized power at mid delays\n",
    " - B1 & B2 baseline group 77, 78, 81, 99, 105, 106 localized power at mid delays\n",
    " \n",
    "All baselines analysis:\n",
    "\n",
    " - B1 baseline 12, 16, 69, 74 (bad), 212, 230, 324, 540, 655, 657, 660, 731 power at mid delays\n",
    " - B2 baseline 23, 27, 71, 196, 198 power at mid delays\n",
    " - B1 & B2 baseline 28, 29, 30, 33 (v bad), 37 (bad), 75, 77, 200, 201 (bad), 202, 203, 206, 208 (bad), 209, 210, 218 (bad), 220, 221, 227, 228, 315 (bad), 319, 321 (bad), 322, 323, 423, 426, 430, 439, 543, 544, 546, 659  power at mid delays\n",
    " - B1 baseline 1, 6, 8, 9, 20, 21, 25, 31, 34, 73, 79, 216, 223, 224, 225, 424, 440, 662, 696 localized power at mid delays\n",
    " - B2 baseline 3, 19, 35, 195, 212, 313, 432 localized power at mid delays\n",
    " - B1 & B2 baseline 14, 17, 204, 217, 219, 222, 316, 317, 433, 434, 436 localized power at mid delays\n",
    " \n",
    " \n",
    "Other notes:\n",
    " - For B1 get localized power at mid delays at higher end of frequency band - recurring spot for a few baselines\n",
    " - Bls 33, 37, 74 bad, with lots of power at mid delays, especially in Band 1\n",
    " - Features do not appear transient in time - high power seems to be present across times for specific baselines\n",
    " - B1 seems worse than B2 for Field 2? looking at H1C limits, expect B1 to be worse, so effects will be more noticeable, especially when comparing on the same scale"
   ]
  },
  {
   "cell_type": "markdown",
   "id": "0e255fca",
   "metadata": {},
   "source": [
    "### Notes v2"
   ]
  },
  {
   "cell_type": "markdown",
   "id": "137d9703",
   "metadata": {},
   "source": [
    "**Repeating the notes and looking at Band 2 alone (so that scales are not distorted) and not looking at baselines that have projected EW < 14 m**"
   ]
  },
  {
   "cell_type": "markdown",
   "id": "6ce795d7",
   "metadata": {},
   "source": [
    "### Look at some example slices where CWT looks bad"
   ]
  },
  {
   "cell_type": "code",
   "execution_count": null,
   "id": "2aa9b57c",
   "metadata": {},
   "outputs": [],
   "source": [
    "hr_full_fn = 'h1c_idr2.OCRSLP2XTK.npz'\n",
    "vis_data = np.load(hr_full_fn)['arr_0']"
   ]
  },
  {
   "cell_type": "code",
   "execution_count": null,
   "id": "053a3240",
   "metadata": {},
   "outputs": [],
   "source": [
    "bad_slice = 0\n",
    "\n",
    "sample_tint = bad_modz_t_bl[bad_slice][0]\n",
    "sample_bl = bad_modz_t_bl[bad_slice][1]\n",
    "print(f'Examining baseline {redg[sample_bl, :][1:]} at LST {lsts[sample_tint]:.3f}')"
   ]
  },
  {
   "cell_type": "code",
   "execution_count": null,
   "id": "1f170a8b",
   "metadata": {},
   "outputs": [],
   "source": [
    "fig, axes = plt.subplots(ncols=2, figsize=(7.5, 4), dpi=125, sharey=True)\n",
    "axes[0].imshow(np.log10(data1[..., sample_tint, sample_bl]), aspect='auto', interpolation='none', cmap='jet')\n",
    "axes[1].imshow(np.log10(data2[..., sample_tint, sample_bl]), aspect='auto', interpolation='none', cmap='jet')\n",
    "axes[0].set_title('Band 1')\n",
    "axes[1].set_title('Band 2')\n",
    "plt.tight_layout()\n",
    "plt.show()"
   ]
  },
  {
   "cell_type": "code",
   "execution_count": null,
   "id": "ae5170bb",
   "metadata": {},
   "outputs": [],
   "source": [
    "fig, axes = plt.subplots(ncols=2, figsize=(7.5, 4), dpi=125, sharey=True)\n",
    "\n",
    "# # set same values scale\n",
    "# sdata = np.concatenate((data1[..., sample_tint, sample_bl], data2[..., sample_tint, sample_bl]), axis=1)\n",
    "# vmin = sdata.min()\n",
    "# vmax = sdata.max()\n",
    "# vlims = (vmin, vmax)\n",
    "vlims = None\n",
    "coikw = {'alpha':0.1, 'hatch':'/'}\n",
    "\n",
    "sample_data1 = vis_data[sample_tint, band_1[0]:band_1[1]+1, sample_bl]\n",
    "sample_data2 = vis_data[sample_tint, band_2[0]:band_2[1]+1, sample_bl]\n",
    "\n",
    "r = scg.cws(freqs[chans1], sample_data1, scales=scales, wavelet=wavelet, cscale='log', coi=True, \\\n",
    "            ax=axes[0], spectrum='power', yaxis='scale', title='WPS B1', \\\n",
    "            xlabel='Frequency', ylabel='Delay', yscale='log', cwt_fun='pywt', vlims=vlims, coikw=coikw)\n",
    "\n",
    "_ = scg.cws(freqs[chans2], sample_data2, scales=scales, wavelet=wavelet, cscale='log', coi=True, \\\n",
    "            ax=axes[1], spectrum='power', yaxis='scale', title='WPS B2', \\\n",
    "            xlabel='Frequency', ylabel='Delay', yscale='log', cwt_fun='pywt', vlims=vlims, coikw=coikw)\n",
    "\n",
    "plt.tight_layout()\n",
    "plt.show()"
   ]
  },
  {
   "cell_type": "code",
   "execution_count": null,
   "id": "47e9c847",
   "metadata": {},
   "outputs": [],
   "source": [
    "fig, axes = plt.subplots(ncols=2, figsize=(8, 4), dpi=125)\n",
    "\n",
    "# WPS Scaleogram\n",
    "ax, qmesh, values = scg.cws(b_freqs, sample_data2, scales=scales, wavelet=wavelet, cscale='log', \\\n",
    "    coi=True, ax=axes[1], spectrum='power', yaxis='frequency', \\\n",
    "    title='WPS', xlabel='Frequency [MHz]', ylabel=r'Delay [$\\mu$s]', \\\n",
    "    yscale='log', cwt_fun='pywt', vlims=vlims, cbar=False, coikw=coikw)\n",
    "\n",
    "axes[1].scatter(b_freqs[sf_idx[1]], pywt.scale2frequency(wavelet, sf_idx[0]+1)/hd.channel_width, \\\n",
    "                s=1000, fc='None', edgecolors='cyan', lw=2, ls='--')\n",
    "\n",
    "divider = make_axes_locatable(axes[1])\n",
    "cax1 = divider.append_axes('right', size='5%', pad=0.1)\n",
    "plt.colorbar(qmesh, cax=cax1)\n",
    "\n",
    "axes[1].set_xticks(xtk[1:-1])\n",
    "axes[1].set_xticklabels(intticks)\n",
    "\n",
    "axes[1].set_yticks([1e-6, 1e-5])\n",
    "axes[1].set_yticklabels([r'$10^0$', r'$10^1$'])\n",
    "\n",
    "# modZ plot\n",
    "# im1 = axes[0].imshow(sample_abs_modz, aspect='auto', interpolation='None', \\\n",
    "#                      norm=LogNorm(vmin=abs_modz_vmin), cmap='jet', \\\n",
    "#                      extent=[extent[0], extent[1], scales[-1]+1, scales[0]])\n",
    "im1 = axes[0].pcolormesh(b_freqs/1e6, scales+0.5, sample_abs_modz, \\\n",
    "                         norm=LogNorm(vmin=abs_modz_vmin), cmap='jet')\n",
    "# circle worst pixel in scaleogram\n",
    "axes[0].scatter(b_freqs[sf_idx[1]]/1e6, sf_idx[0]+1, s=1000, fc='None', edgecolors='cyan', \\\n",
    "                lw=2, ls='--')\n",
    "axes[0].set_ylim((1, 18))\n",
    "axes[0].invert_yaxis()\n",
    "axes[0].set_yscale('log')\n",
    "axes[0].set_xticks(intticks)\n",
    "axes[0].set_xticklabels(intticks)\n",
    "\n",
    "divider = make_axes_locatable(axes[0])\n",
    "cax1 = divider.append_axes('right', size='5%', pad=0.1)\n",
    "plt.colorbar(im1, cax=cax1)\n",
    "\n",
    "axes[0].set_title(r'Modified $Z$-score')\n",
    "axes[0].set_xlabel('Frequency [MHz]')\n",
    "axes[0].set_ylabel('Scale')\n",
    "\n",
    "fig.tight_layout()\n",
    "\n",
    "# save_fig_dir = '/lustre/aoc/projects/hera/mmolnar/figs'\n",
    "# plt.savefig(os.path.join(save_fig_dir, 'modz_cwtps.pdf'), bbox_inches='tight')\n",
    "\n",
    "plt.show()"
   ]
  },
  {
   "cell_type": "code",
   "execution_count": null,
   "id": "02257a23",
   "metadata": {},
   "outputs": [],
   "source": [
    "fig, axes = plt.subplots(ncols=2, figsize=(7.5, 4), dpi=125)\n",
    "\n",
    "c = [chans1, chans2]\n",
    "s = [sample_data1, sample_data2]\n",
    "t = ['Band 1 Field 2', 'Band 2 Field 2']\n",
    "\n",
    "for i, ax in enumerate(axes):\n",
    "    ax.plot(freqs[c[i]]/1e6, s[i].real, label=r'$\\mathfrak{Re}(V)$')\n",
    "    ax.plot(freqs[c[i]]/1e6, s[i].imag, label=r'$\\mathfrak{Im}(V)$')\n",
    "    ax.set_xlabel('Frequency [MHz]')\n",
    "    ax.set_title(t[i])\n",
    "    \n",
    "axes[0].set_ylabel('Visibility')\n",
    "axes[0].legend(loc='best')\n",
    "\n",
    "plt.tight_layout()\n",
    "plt.show()"
   ]
  },
  {
   "cell_type": "code",
   "execution_count": null,
   "id": "bc650f10",
   "metadata": {},
   "outputs": [],
   "source": [
    "# Look at mean of baselines in redundant group to see if visibilities are similar\n",
    "bl_grp = redg[sample_bl][0]\n",
    "red_grp = np.where(redg[:, 0] == bl_grp)[0]"
   ]
  },
  {
   "cell_type": "code",
   "execution_count": null,
   "id": "792c1a2c",
   "metadata": {},
   "outputs": [],
   "source": [
    "fig, axes = plt.subplots(ncols=2, nrows=2, figsize=(7.5, 7.5), dpi=125, sharex='col')\n",
    "\n",
    "# sample_data3 = np.nanmean(vis_data[sample_tint, band_1[0]:band_1[1]+1, red_grp], axis=0)\n",
    "# sample_data4 = np.nanmean(vis_data[sample_tint, band_2[0]:band_2[1]+1, red_grp], axis=0)\n",
    "\n",
    "red_grp_min = [i for i in red_grp if i != sample_bl]\n",
    "\n",
    "sample_data3 = vis_data[sample_tint, band_1[0]:band_1[1]+1, red_grp_min].T\n",
    "sample_data4 = vis_data[sample_tint, band_2[0]:band_2[1]+1, red_grp_min].T\n",
    "\n",
    "c = [chans1, chans2]\n",
    "s = [sample_data3, sample_data4]\n",
    "t = ['Band 1 Field 2', 'Band 2 Field 2']\n",
    "\n",
    "lws = [2 if i == sample_bl else 1 for i in red_grp]\n",
    "cs = ['grey' if i == sample_bl else 'red' for i in red_grp]\n",
    "\n",
    "axes[0][0].plot(freqs[c[0]]/1e6, s[0].real, alpha=0.5)\n",
    "axes[1][0].plot(freqs[c[0]]/1e6, s[0].imag, alpha=0.5)\n",
    "axes[0][1].plot(freqs[c[1]]/1e6, s[1].real, alpha=0.5)\n",
    "axes[1][1].plot(freqs[c[1]]/1e6, s[1].imag, alpha=0.5)\n",
    "\n",
    "axes[0][0].plot(freqs[c[0]]/1e6, vis_data[sample_tint, band_1[0]:band_1[1]+1, sample_bl].real, \\\n",
    "                lw=1.5, c='red')\n",
    "axes[1][0].plot(freqs[c[0]]/1e6, vis_data[sample_tint, band_1[0]:band_1[1]+1, sample_bl].imag, \\\n",
    "                lw=1.5, c='red')\n",
    "axes[0][1].plot(freqs[c[1]]/1e6, vis_data[sample_tint, band_2[0]:band_2[1]+1, sample_bl].real, \\\n",
    "                lw=1.5, c='red')\n",
    "axes[1][1].plot(freqs[c[1]]/1e6, vis_data[sample_tint, band_2[0]:band_2[1]+1, sample_bl].imag, \\\n",
    "                lw=1.5, c='red')\n",
    "\n",
    "axes[1][0].set_xlabel('Frequency [MHz]')\n",
    "axes[1][1].set_xlabel('Frequency [MHz]')\n",
    "    \n",
    "axes[0][0].set_ylabel(r'$\\mathfrak{Re}(V)$')\n",
    "axes[1][0].set_ylabel(r'$\\mathfrak{Im}(V)$')\n",
    "# axes[1].legend(loc='best')\n",
    "axes[0][0].set_title(t[0])\n",
    "axes[0][1].set_title(t[0])\n",
    "\n",
    "plt.tight_layout()\n",
    "plt.show()"
   ]
  },
  {
   "cell_type": "code",
   "execution_count": null,
   "id": "7074cc00",
   "metadata": {},
   "outputs": [],
   "source": [
    "# check auto-PS for the baseline\n",
    "delay, pspec = signal.periodogram(sample_data1, fs=1/freq_resolution, \\\n",
    "    window='blackmanharris', scaling='spectrum', nfft=None, detrend=False, \\\n",
    "    return_onesided=False)\n",
    "\n",
    "delay_sort = np.argsort(delay)\n",
    "delay = delay[delay_sort]\n",
    "pspec = pspec[delay_sort]"
   ]
  },
  {
   "cell_type": "code",
   "execution_count": null,
   "id": "534f9c1a",
   "metadata": {},
   "outputs": [],
   "source": [
    "fig, ax = plt.subplots(figsize=(6, 6), dpi=125)\n",
    "\n",
    "ax.plot(delay, pspec, alpha=1)\n",
    "\n",
    "ax.set_yscale('log')\n",
    "ax.set_ylabel('Power spectrum')\n",
    "ax.set_xlabel('Delay')\n",
    "\n",
    "plt.tight_layout()\n",
    "plt.show()"
   ]
  }
 ],
 "metadata": {
  "kernelspec": {
   "display_name": "hera",
   "language": "python",
   "name": "hera"
  },
  "language_info": {
   "codemirror_mode": {
    "name": "ipython",
    "version": 3
   },
   "file_extension": ".py",
   "mimetype": "text/x-python",
   "name": "python",
   "nbconvert_exporter": "python",
   "pygments_lexer": "ipython3",
   "version": "3.7.12"
  },
  "toc": {
   "base_numbering": 1,
   "nav_menu": {},
   "number_sections": true,
   "sideBar": true,
   "skip_h1_title": false,
   "title_cell": "Table of Contents",
   "title_sidebar": "Contents",
   "toc_cell": false,
   "toc_position": {},
   "toc_section_display": true,
   "toc_window_display": false
  },
  "varInspector": {
   "cols": {
    "lenName": 16,
    "lenType": 16,
    "lenVar": 40
   },
   "kernels_config": {
    "python": {
     "delete_cmd_postfix": "",
     "delete_cmd_prefix": "del ",
     "library": "var_list.py",
     "varRefreshCmd": "print(var_dic_list())"
    },
    "r": {
     "delete_cmd_postfix": ") ",
     "delete_cmd_prefix": "rm(",
     "library": "var_list.r",
     "varRefreshCmd": "cat(var_dic_list()) "
    }
   },
   "types_to_exclude": [
    "module",
    "function",
    "builtin_function_or_method",
    "instance",
    "_Feature"
   ],
   "window_display": false
  }
 },
 "nbformat": 4,
 "nbformat_minor": 5
}
