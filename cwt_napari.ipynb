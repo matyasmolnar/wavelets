{
 "cells": [
  {
   "cell_type": "markdown",
   "id": "fce7cfde",
   "metadata": {},
   "source": [
    "<center><strong><font size=+3>CWT PS Analysis in Napari</font></center>\n",
    "<br><br>\n",
    "</center>\n",
    "<center><strong><font size=+2>Matyas Molnar and Bojan Nikolic</font><br></strong></center>\n",
    "<br><center><strong><font size=+1>Astrophysics Group, Cavendish Laboratory, University of Cambridge</font></strong></center>"
   ]
  },
  {
   "cell_type": "markdown",
   "id": "e96b53ba",
   "metadata": {},
   "source": [
    "### View CWT products in napari"
   ]
  },
  {
   "cell_type": "code",
   "execution_count": null,
   "id": "1bda7796",
   "metadata": {},
   "outputs": [],
   "source": [
    "import numpy as np\n",
    "from astropy.stats import mad_std, sigma_clip\n",
    "from matplotlib import pyplot as plt\n",
    "from matplotlib.colors import LogNorm\n",
    "from mpl_toolkits.axes_grid1 import make_axes_locatable\n",
    "from scipy import signal\n",
    "\n",
    "import pywt\n",
    "import scaleogram as scg\n",
    "\n",
    "from hera_cal.io import HERAData"
   ]
  },
  {
   "cell_type": "code",
   "execution_count": null,
   "id": "0ddd049c",
   "metadata": {},
   "outputs": [],
   "source": [
    "npz_f1 = np.load('cwt_power_b1.npz')\n",
    "npz_f2 = np.load('cwt_power_b2.npz')\n",
    "data1 = npz_f1['power']\n",
    "data2 = npz_f2['power']"
   ]
  },
  {
   "cell_type": "code",
   "execution_count": null,
   "id": "1195ef8a",
   "metadata": {},
   "outputs": [],
   "source": [
    "lsts = npz_f1['lsts']\n",
    "redg = npz_f1['redg']\n",
    "chans1 = npz_f1['freqs']\n",
    "chans2 = npz_f2['freqs']"
   ]
  },
  {
   "cell_type": "code",
   "execution_count": null,
   "id": "499a0557",
   "metadata": {},
   "outputs": [],
   "source": [
    "freqs = np.linspace(1e8, 2e8, 1024+1)[:-1]\n",
    "freq_resolution = np.median(np.ediff1d(freqs))"
   ]
  },
  {
   "cell_type": "code",
   "execution_count": null,
   "id": "beba5c85",
   "metadata": {},
   "outputs": [],
   "source": [
    "# # ant filt to make more manageable\n",
    "# data1 = data1[..., 100:200]\n",
    "# data2 = data2[..., 100:200]"
   ]
  },
  {
   "cell_type": "code",
   "execution_count": null,
   "id": "4c48f7e6",
   "metadata": {},
   "outputs": [],
   "source": [
    "band_1 = [175, 334]\n",
    "band_2 = [515, 694]\n",
    "\n",
    "field_1 = [1.25, 2.70]\n",
    "field_2 = [4.50, 6.50]\n",
    "field_3 = [8.50, 10.75]"
   ]
  },
  {
   "cell_type": "code",
   "execution_count": null,
   "id": "dbe99a63",
   "metadata": {},
   "outputs": [],
   "source": [
    "f1 = np.where((lsts > field_1[0]) & (lsts < field_1[1]))[0]\n",
    "print(f1)"
   ]
  },
  {
   "cell_type": "code",
   "execution_count": null,
   "id": "8aab6d70",
   "metadata": {},
   "outputs": [],
   "source": [
    "f2 = np.where((lsts > field_2[0]) & (lsts < field_2[1]))[0]\n",
    "print(f2)"
   ]
  },
  {
   "cell_type": "code",
   "execution_count": null,
   "id": "cfe75a21",
   "metadata": {},
   "outputs": [],
   "source": [
    "zen_lstb = '/Users/matyasmolnar/Downloads/HERA_Data/sample_data/zen.grp1.of1.LST.1.31552.HH.OCRSL.uvh5'\n",
    "hd = HERAData(zen_lstb)\n",
    "\n",
    "antsep = {}\n",
    "for row in redg:\n",
    "    antsep[tuple(row[1:])] = np.abs(hd.antpos[row[2]] - hd.antpos[row[1]])\n",
    "\n",
    "proj_ew = 14\n",
    "# baselines with projected EW length < 14 m\n",
    "nan_bls = [i for i, (k, v) in enumerate(antsep.items()) if v[0] < proj_ew]\n",
    "ok_bls = [i for i, (k, v) in enumerate(antsep.items()) if v[0] > proj_ew]"
   ]
  },
  {
   "cell_type": "code",
   "execution_count": null,
   "id": "8c1bf42e",
   "metadata": {},
   "outputs": [],
   "source": [
    "data1[..., nan_bls] *= np.nan\n",
    "data2[..., nan_bls] *= np.nan"
   ]
  },
  {
   "cell_type": "code",
   "execution_count": null,
   "id": "d72f13e5",
   "metadata": {},
   "outputs": [],
   "source": [
    "if False:\n",
    "    \n",
    "    import napari\n",
    "\n",
    "    # get two bands side by side\n",
    "    # careful because B1 and B2 will have different scales..\n",
    "    data_m = np.concatenate((data1, data2), axis=1)\n",
    "    # data_m = data2\n",
    "\n",
    "    # only look at times from Field 2\n",
    "    # in napari - set auto-constrast to \"once\", and adjust contrast limits & gamma\n",
    "    # found that FPS 8 works well, with play mode \"back and forth\" (for time axis)\n",
    "\n",
    "    viewer = napari.view_image(np.log(data_m[:, :, :, :]), colormap='turbo', ndisplay=2, order=(2, 3, 0, 1), \\\n",
    "                               gamma=1, interpolation='nearest', scale=(8, 1, 1, 1))"
   ]
  },
  {
   "cell_type": "markdown",
   "id": "a42d84dc",
   "metadata": {},
   "source": [
    "### Automatic detection"
   ]
  },
  {
   "cell_type": "code",
   "execution_count": null,
   "id": "4c0cea95",
   "metadata": {},
   "outputs": [],
   "source": [
    "med = np.nanmedian(data1, axis=(2, 3))\n",
    "\n",
    "mad = mad_std(data1, axis=(2, 3), ignore_nan=True)"
   ]
  },
  {
   "cell_type": "code",
   "execution_count": null,
   "id": "d81a0ee4",
   "metadata": {},
   "outputs": [],
   "source": [
    "# pass ignore_nan=True argument to astropy mad_std\n",
    "def mad_std_(d, axis=None):\n",
    "    return mad_std(d, axis=axis, func=None, ignore_nan=True)"
   ]
  },
  {
   "cell_type": "code",
   "execution_count": null,
   "id": "1af97733",
   "metadata": {},
   "outputs": [],
   "source": [
    "sc = sigma_clip(data1, cenfunc=np.nanmedian, stdfunc=mad_std_, \\\n",
    "                sigma=5, maxiters=1, axis=(2, 3))\n",
    "sc.set_fill_value(value=np.nan)"
   ]
  },
  {
   "cell_type": "code",
   "execution_count": null,
   "id": "a98aaf1f",
   "metadata": {},
   "outputs": [],
   "source": [
    "fig, axes = plt.subplots(ncols=2, figsize=(7.5, 4), dpi=125, sharey=True)\n",
    "im1 = axes[0].imshow(med, aspect='auto', interpolation='none', cmap='jet', norm=LogNorm())\n",
    "im2 = axes[1].imshow(mad, aspect='auto', interpolation='none', cmap='jet', norm=LogNorm())\n",
    "\n",
    "divider = make_axes_locatable(axes[0])\n",
    "cax1 = divider.append_axes('right', size='5%', pad=0.05)   \n",
    "plt.colorbar(im1, cax=cax1)\n",
    "\n",
    "divider = make_axes_locatable(axes[1])\n",
    "cax2 = divider.append_axes('right', size='5%', pad=0.05)   \n",
    "plt.colorbar(im2, cax=cax2)\n",
    "\n",
    "axes[0].set_title('Median')\n",
    "axes[1].set_title('MAD')\n",
    "\n",
    "plt.tight_layout()\n",
    "plt.show()"
   ]
  },
  {
   "cell_type": "code",
   "execution_count": null,
   "id": "f55def55",
   "metadata": {},
   "outputs": [],
   "source": [
    "clip_thresh = 1e0\n",
    "\n",
    "hp = mad > clip_thresh\n",
    "\n",
    "fig, ax = plt.subplots(figsize=(4, 4), dpi=125, sharey=True)\n",
    "ax.imshow(hp, aspect='auto', interpolation='None')\n",
    "plt.tight_layout()\n",
    "plt.show()"
   ]
  },
  {
   "cell_type": "code",
   "execution_count": null,
   "id": "e07e9148",
   "metadata": {},
   "outputs": [],
   "source": [
    "clipped = sc.mask"
   ]
  },
  {
   "cell_type": "code",
   "execution_count": null,
   "id": "d339e970",
   "metadata": {},
   "outputs": [],
   "source": [
    "clipped[hp, ...] = False"
   ]
  },
  {
   "cell_type": "code",
   "execution_count": null,
   "id": "d5c6d287",
   "metadata": {},
   "outputs": [],
   "source": [
    "clipped.nonzero()"
   ]
  },
  {
   "cell_type": "markdown",
   "id": "f89d9a62",
   "metadata": {},
   "source": [
    "### Notes v1\n",
    "\n",
    "**These notes were taken when analysing all baselines that do not contained flagged antennas. It was then noted that baselines with projected EW < 14 metres are discarded in the power spectrum computation, so the analysis was repeated, with comments written in Notes v2.**\n",
    "\n",
    "In the below by \"delay\" we mean delay of the wavelet, with wavelets of small scale -> compressed wavelet -> rapidly changing details -> higher delay (since the signal is in frequency space to start off with)\n",
    "\n",
    "Redundant analysis:\n",
    " - B1 baseline group 1, 3 power at high-ish delays\n",
    " - B2F2 baseline group 7 power at low delays\n",
    " - B1 & B2 baseline group 12 and 13 has more power at mid delays and high\n",
    " - B1 & B2 baseline group 20, 30, 31, 45 higher power at mid delays\n",
    " - B1 baseline group 67, 68, 72, 74, 82, 83, 88, 101 localized power at mid delays\n",
    " - B1 & B2 baseline group 77, 78, 81, 99, 105, 106 localized power at mid delays\n",
    " \n",
    "All baselines analysis:\n",
    "\n",
    " - B1 baseline 12, 16, 69, 74 (bad), 212, 230, 324, 540, 655, 657, 660, 731 power at mid delays\n",
    " - B2 baseline 23, 27, 71, 196, 198 power at mid delays\n",
    " - B1 & B2 baseline 28, 29, 30, 33 (v bad), 37 (bad), 75, 77, 200, 201 (bad), 202, 203, 206, 208 (bad), 209, 210, 218 (bad), 220, 221, 227, 228, 315 (bad), 319, 321 (bad), 322, 323, 423, 426, 430, 439, 543, 544, 546, 659  power at mid delays\n",
    " - B1 baseline 1, 6, 8, 9, 20, 21, 25, 31, 34, 73, 79, 216, 223, 224, 225, 424, 440, 662, 696 localized power at mid delays\n",
    " - B2 baseline 3, 19, 35, 195, 212, 313, 432 localized power at mid delays\n",
    " - B1 & B2 baseline 14, 17, 204, 217, 219, 222, 316, 317, 433, 434, 436 localized power at mid delays\n",
    " \n",
    " \n",
    "Other notes:\n",
    " - For B1 get localized power at mid delays at higher end of frequency band - recurring spot for a few baselines\n",
    " - Bls 33, 37, 74 bad, with lots of power at mid delays, especially in Band 1\n",
    " - Features do not appear transient in time - high power seems to be present across times for specific baselines\n",
    " - B1 seems worse than B2 for Field 2? looking at H1C limits, expect B1 to be worse, so effects will be more noticeable, especially when comparing on the same scale"
   ]
  },
  {
   "cell_type": "markdown",
   "id": "0e255fca",
   "metadata": {},
   "source": [
    "### Notes v2"
   ]
  },
  {
   "cell_type": "markdown",
   "id": "6ce795d7",
   "metadata": {},
   "source": [
    "### Look at some example slices where CWT looks bad"
   ]
  },
  {
   "cell_type": "code",
   "execution_count": null,
   "id": "2aa9b57c",
   "metadata": {},
   "outputs": [],
   "source": [
    "hr_full_fn = 'h1c_idr2.OCRSLP2XTK.npz'\n",
    "vis_data = np.load(hr_full_fn)['arr_0']"
   ]
  },
  {
   "cell_type": "code",
   "execution_count": null,
   "id": "053a3240",
   "metadata": {},
   "outputs": [],
   "source": [
    "sample_tint = 15\n",
    "sample_bl = 50\n",
    "band = band_1\n",
    "print(f'Examining baseline {redg[sample_bl, :][1:]} at LST {lsts[sample_tint]:.3f}')"
   ]
  },
  {
   "cell_type": "code",
   "execution_count": null,
   "id": "1f170a8b",
   "metadata": {},
   "outputs": [],
   "source": [
    "fig, axes = plt.subplots(ncols=2, figsize=(7.5, 4), dpi=125, sharey=True)\n",
    "axes[0].imshow(np.log10(data1[..., f2[sample_tint], sample_bl]), aspect='auto', interpolation='none', cmap='jet')\n",
    "axes[1].imshow(np.log10(data2[..., f2[sample_tint], sample_bl]), aspect='auto', interpolation='none', cmap='jet')\n",
    "axes[0].set_title('Band 1')\n",
    "axes[1].set_title('Band 2')\n",
    "plt.tight_layout()\n",
    "plt.show()"
   ]
  },
  {
   "cell_type": "code",
   "execution_count": null,
   "id": "ae5170bb",
   "metadata": {},
   "outputs": [],
   "source": [
    "fig, axes = plt.subplots(ncols=2, figsize=(7.5, 4), dpi=125, sharey=True)\n",
    "\n",
    "wavelet = npz_f1['wavelet'].item()\n",
    "scales = npz_f1['scales']\n",
    "\n",
    "# # set same values scale\n",
    "# sdata = np.concatenate((data1[..., sample_tint, sample_bl], data2[..., sample_tint, sample_bl]), axis=1)\n",
    "# vmin = sdata.min()\n",
    "# vmax = sdata.max()\n",
    "# vlims = (vmin, vmax)\n",
    "vlims = None\n",
    "\n",
    "sample_data1 = vis_data[sample_tint, band_1[0]:band_1[1]+1, sample_bl]\n",
    "sample_data2 = vis_data[sample_tint, band_2[0]:band_2[1]+1, sample_bl]\n",
    "\n",
    "r = scg.cws(freqs[chans1], sample_data1, scales=scales, wavelet=wavelet, cscale='log', coi=True, \\\n",
    "            ax=axes[0], spectrum='power', yaxis='frequency', title='CWT PS B1', \\\n",
    "            xlabel='Frequency', ylabel='Delay', yscale='log', cwt_fun='pywt', vlims=vlims)\n",
    "\n",
    "_ = scg.cws(freqs[chans2], sample_data2, scales=scales, wavelet=wavelet, cscale='log', coi=True, \\\n",
    "            ax=axes[1], spectrum='power', yaxis='frequency', title='CWT PS B2', \\\n",
    "            xlabel='Frequency', ylabel='Delay', yscale='log', cwt_fun='pywt', vlims=vlims)\n",
    "\n",
    "plt.tight_layout()\n",
    "plt.show()"
   ]
  },
  {
   "cell_type": "code",
   "execution_count": null,
   "id": "02257a23",
   "metadata": {},
   "outputs": [],
   "source": [
    "fig, axes = plt.subplots(ncols=2, figsize=(7.5, 4), dpi=125)\n",
    "\n",
    "c = [chans1, chans2]\n",
    "s = [sample_data1, sample_data2]\n",
    "t = ['Band 1 Field 2', 'Band 2 Field 2']\n",
    "\n",
    "for i, ax in enumerate(axes):\n",
    "    ax.plot(freqs[c[i]]/1e6, s[i].real, label=r'$\\mathfrak{Re}(V)$')\n",
    "    ax.plot(freqs[c[i]]/1e6, s[i].imag, label=r'$\\mathfrak{Im}(V)$')\n",
    "    ax.set_xlabel('Frequency [MHz]')\n",
    "    ax.set_title(t[i])\n",
    "    \n",
    "axes[0].set_ylabel('Visibility')\n",
    "axes[1].legend(loc='best')\n",
    "\n",
    "plt.tight_layout()\n",
    "plt.show()"
   ]
  },
  {
   "cell_type": "code",
   "execution_count": null,
   "id": "bc650f10",
   "metadata": {},
   "outputs": [],
   "source": [
    "# Look at another baseline in same redundant group to see if visibilities are similar\n",
    "bl_grp = redg[sample_bl][0]\n",
    "red_grp = np.where(redg[:, 0] == bl_grp)[0]\n",
    "slct_bl = 1"
   ]
  },
  {
   "cell_type": "code",
   "execution_count": null,
   "id": "792c1a2c",
   "metadata": {},
   "outputs": [],
   "source": [
    "fig, axes = plt.subplots(ncols=2, figsize=(7.5, 4), dpi=125)\n",
    "\n",
    "sample_data3 = vis_data[sample_tint, band_1[0]:band_1[1]+1, red_grp[slct_bl]]\n",
    "sample_data4 = vis_data[sample_tint, band_2[0]:band_2[1]+1, red_grp[slct_bl]]\n",
    "\n",
    "c = [chans1, chans2]\n",
    "s = [sample_data3, sample_data4]\n",
    "t = ['Band 1 Field 2', 'Band 2 Field 2']\n",
    "\n",
    "for i, ax in enumerate(axes):\n",
    "    ax.plot(freqs[c[i]]/1e6, s[i].real, label=r'$\\mathfrak{Re}(V)$')\n",
    "    ax.plot(freqs[c[i]]/1e6, s[i].imag, label=r'$\\mathfrak{Im}(V)$')\n",
    "    ax.set_xlabel('Frequency [MHz]')\n",
    "    ax.set_title(t[i])\n",
    "    \n",
    "axes[0].set_ylabel('Visibility')\n",
    "axes[1].legend(loc='best')\n",
    "\n",
    "plt.tight_layout()\n",
    "plt.show()"
   ]
  },
  {
   "cell_type": "code",
   "execution_count": null,
   "id": "7074cc00",
   "metadata": {},
   "outputs": [],
   "source": [
    "# check auto-PS for the baseline\n",
    "\n",
    "delay, pspec = signal.periodogram(sample_data1, fs=1/freq_resolution, \\\n",
    "    window='blackmanharris', scaling='spectrum', nfft=None, detrend=False, \\\n",
    "    return_onesided=False)\n",
    "\n",
    "delay_sort = np.argsort(delay)\n",
    "delay = delay[delay_sort]\n",
    "pspec = pspec[delay_sort]"
   ]
  },
  {
   "cell_type": "code",
   "execution_count": null,
   "id": "534f9c1a",
   "metadata": {},
   "outputs": [],
   "source": [
    "fig, ax = plt.subplots(figsize=(6, 6), dpi=125)\n",
    "\n",
    "ax.plot(delay, pspec, alpha=1)\n",
    "\n",
    "ax.set_yscale('log')\n",
    "ax.set_ylabel('Power spectrum')\n",
    "ax.set_xlabel('Delay')\n",
    "\n",
    "plt.tight_layout()\n",
    "plt.show()"
   ]
  },
  {
   "cell_type": "markdown",
   "id": "6a5b049a",
   "metadata": {},
   "source": [
    "## Statisticall"
   ]
  }
 ],
 "metadata": {
  "kernelspec": {
   "display_name": "Python 3 (ipykernel)",
   "language": "python",
   "name": "python3"
  },
  "language_info": {
   "codemirror_mode": {
    "name": "ipython",
    "version": 3
   },
   "file_extension": ".py",
   "mimetype": "text/x-python",
   "name": "python",
   "nbconvert_exporter": "python",
   "pygments_lexer": "ipython3",
   "version": "3.9.12"
  },
  "toc": {
   "base_numbering": 1,
   "nav_menu": {},
   "number_sections": true,
   "sideBar": true,
   "skip_h1_title": false,
   "title_cell": "Table of Contents",
   "title_sidebar": "Contents",
   "toc_cell": false,
   "toc_position": {},
   "toc_section_display": true,
   "toc_window_display": false
  },
  "varInspector": {
   "cols": {
    "lenName": 16,
    "lenType": 16,
    "lenVar": 40
   },
   "kernels_config": {
    "python": {
     "delete_cmd_postfix": "",
     "delete_cmd_prefix": "del ",
     "library": "var_list.py",
     "varRefreshCmd": "print(var_dic_list())"
    },
    "r": {
     "delete_cmd_postfix": ") ",
     "delete_cmd_prefix": "rm(",
     "library": "var_list.r",
     "varRefreshCmd": "cat(var_dic_list()) "
    }
   },
   "types_to_exclude": [
    "module",
    "function",
    "builtin_function_or_method",
    "instance",
    "_Feature"
   ],
   "window_display": false
  }
 },
 "nbformat": 4,
 "nbformat_minor": 5
}
